{
  "cells": [
    {
      "cell_type": "code",
      "execution_count": 35,
      "metadata": {},
      "outputs": [
        {
          "name": "stdout",
          "output_type": "stream",
          "text": [
            "Collecting seabornNote: you may need to restart the kernel to use updated packages.\n",
            "  Downloading seaborn-0.11.2-py3-none-any.whl (292 kB)\n",
            "Collecting scipy>=1.0\n",
            "  Downloading scipy-1.8.0-cp39-cp39-win_amd64.whl (36.9 MB)\n",
            "Requirement already satisfied: numpy>=1.15 in c:\\users\\sakshi singh\\desktop\\project thy\\.venv\\lib\\site-packages (from seaborn) (1.22.2)\n"
          ]
        },
        {
          "name": "stderr",
          "output_type": "stream",
          "text": [
            "WARNING: You are using pip version 20.2.3; however, version 22.0.3 is available.\n",
            "You should consider upgrading via the 'c:\\Users\\sakshi singh\\Desktop\\Project Thy\\.venv\\Scripts\\python.exe -m pip install --upgrade pip' command.\n"
          ]
        },
        {
          "name": "stdout",
          "output_type": "stream",
          "text": [
            "\n",
            "Requirement already satisfied: matplotlib>=2.2 in c:\\users\\sakshi singh\\desktop\\project thy\\.venv\\lib\\site-packages (from seaborn) (3.5.1)\n",
            "Requirement already satisfied: pandas>=0.23 in c:\\users\\sakshi singh\\desktop\\project thy\\.venv\\lib\\site-packages (from seaborn) (1.4.1)\n",
            "Requirement already satisfied: packaging>=20.0 in c:\\users\\sakshi singh\\desktop\\project thy\\.venv\\lib\\site-packages (from matplotlib>=2.2->seaborn) (21.3)\n",
            "Requirement already satisfied: kiwisolver>=1.0.1 in c:\\users\\sakshi singh\\desktop\\project thy\\.venv\\lib\\site-packages (from matplotlib>=2.2->seaborn) (1.3.2)\n",
            "Requirement already satisfied: python-dateutil>=2.7 in c:\\users\\sakshi singh\\desktop\\project thy\\.venv\\lib\\site-packages (from matplotlib>=2.2->seaborn) (2.8.2)\n",
            "Requirement already satisfied: pillow>=6.2.0 in c:\\users\\sakshi singh\\desktop\\project thy\\.venv\\lib\\site-packages (from matplotlib>=2.2->seaborn) (9.0.1)\n",
            "Requirement already satisfied: fonttools>=4.22.0 in c:\\users\\sakshi singh\\desktop\\project thy\\.venv\\lib\\site-packages (from matplotlib>=2.2->seaborn) (4.29.1)\n",
            "Requirement already satisfied: pyparsing>=2.2.1 in c:\\users\\sakshi singh\\desktop\\project thy\\.venv\\lib\\site-packages (from matplotlib>=2.2->seaborn) (3.0.7)\n",
            "Requirement already satisfied: cycler>=0.10 in c:\\users\\sakshi singh\\desktop\\project thy\\.venv\\lib\\site-packages (from matplotlib>=2.2->seaborn) (0.11.0)\n",
            "Requirement already satisfied: pytz>=2020.1 in c:\\users\\sakshi singh\\desktop\\project thy\\.venv\\lib\\site-packages (from pandas>=0.23->seaborn) (2021.3)\n",
            "Requirement already satisfied: six>=1.5 in c:\\users\\sakshi singh\\desktop\\project thy\\.venv\\lib\\site-packages (from python-dateutil>=2.7->matplotlib>=2.2->seaborn) (1.16.0)\n",
            "Installing collected packages: scipy, seaborn\n",
            "Successfully installed scipy-1.8.0 seaborn-0.11.2\n"
          ]
        }
      ],
      "source": [
        "pip install seaborn"
      ]
    },
    {
      "cell_type": "code",
      "execution_count": 12,
      "metadata": {
        "id": "vrZmZman9hnx"
      },
      "outputs": [],
      "source": [
        "import pandas as pd"
      ]
    },
    {
      "cell_type": "code",
      "execution_count": 13,
      "metadata": {},
      "outputs": [
        {
          "name": "stdout",
          "output_type": "stream",
          "text": [
            "Requirement already satisfied: pandas in c:\\users\\sakshi singh\\desktop\\project thy\\.venv\\lib\\site-packages (1.4.1)Note: you may need to restart the kernel to use updated packages.\n",
            "Requirement already satisfied: python-dateutil>=2.8.1 in c:\\users\\sakshi singh\\desktop\\project thy\\.venv\\lib\\site-packages (from pandas) (2.8.2)\n",
            "Requirement already satisfied: pytz>=2020.1 in c:\\users\\sakshi singh\\desktop\\project thy\\.venv\\lib\\site-packages (from pandas) (2021.3)\n",
            "Requirement already satisfied: numpy>=1.18.5; platform_machine != \"aarch64\" and platform_machine != \"arm64\" and python_version < \"3.10\" in c:\\users\\sakshi singh\\desktop\\project thy\\.venv\\lib\\site-packages (from pandas) (1.22.2)\n",
            "Requirement already satisfied: six>=1.5 in c:\\users\\sakshi singh\\desktop\\project thy\\.venv\\lib\\site-packages (from python-dateutil>=2.8.1->pandas) (1.16.0)\n",
            "\n"
          ]
        },
        {
          "name": "stderr",
          "output_type": "stream",
          "text": [
            "WARNING: You are using pip version 20.2.3; however, version 22.0.3 is available.\n",
            "You should consider upgrading via the 'c:\\Users\\sakshi singh\\Desktop\\Project Thy\\.venv\\Scripts\\python.exe -m pip install --upgrade pip' command.\n"
          ]
        }
      ],
      "source": [
        "pip install pandas\n"
      ]
    },
    {
      "cell_type": "code",
      "execution_count": 14,
      "metadata": {
        "id": "rAXNRTlx9hnz"
      },
      "outputs": [],
      "source": [
        "import numpy as np"
      ]
    },
    {
      "cell_type": "code",
      "execution_count": 15,
      "metadata": {
        "id": "e6m77N_v9hn0"
      },
      "outputs": [],
      "source": [
        "names=['age','sex','on_thyroxine','query_on_thyroxine','on_antithyroid_medication',\n",
        "       'sick','pregnant','thyroid_surgery','I131_treatment','query_hypothyroid','query_hyperthyroid',\n",
        "      'lithium','goitre','tumor','hypopituitary','psych','TSH_measured','TSH','T3_measured','T3','TT4_measured','TT4','T4U_measured',\n",
        "      'T4U','FTI_measured','FTI','TBG_measured','TBG','referral_source','classes']"
      ]
    },
    {
      "cell_type": "code",
      "execution_count": 17,
      "metadata": {
        "colab": {
          "base_uri": "https://localhost:8080/",
          "height": 270
        },
        "id": "nhOcUXb19hn1",
        "outputId": "8d584944-0356-47c1-cac0-a787fa0bee97"
      },
      "outputs": [
        {
          "data": {
            "text/html": [
              "<div>\n",
              "<style scoped>\n",
              "    .dataframe tbody tr th:only-of-type {\n",
              "        vertical-align: middle;\n",
              "    }\n",
              "\n",
              "    .dataframe tbody tr th {\n",
              "        vertical-align: top;\n",
              "    }\n",
              "\n",
              "    .dataframe thead th {\n",
              "        text-align: right;\n",
              "    }\n",
              "</style>\n",
              "<table border=\"1\" class=\"dataframe\">\n",
              "  <thead>\n",
              "    <tr style=\"text-align: right;\">\n",
              "      <th></th>\n",
              "      <th>age</th>\n",
              "      <th>sex</th>\n",
              "      <th>on_thyroxine</th>\n",
              "      <th>query_on_thyroxine</th>\n",
              "      <th>on_antithyroid_medication</th>\n",
              "      <th>sick</th>\n",
              "      <th>pregnant</th>\n",
              "      <th>thyroid_surgery</th>\n",
              "      <th>I131_treatment</th>\n",
              "      <th>query_hypothyroid</th>\n",
              "      <th>...</th>\n",
              "      <th>TT4_measured</th>\n",
              "      <th>TT4</th>\n",
              "      <th>T4U_measured</th>\n",
              "      <th>T4U</th>\n",
              "      <th>FTI_measured</th>\n",
              "      <th>FTI</th>\n",
              "      <th>TBG_measured</th>\n",
              "      <th>TBG</th>\n",
              "      <th>referral_source</th>\n",
              "      <th>classes</th>\n",
              "    </tr>\n",
              "  </thead>\n",
              "  <tbody>\n",
              "    <tr>\n",
              "      <th>0</th>\n",
              "      <td>41.0</td>\n",
              "      <td>F</td>\n",
              "      <td>f</td>\n",
              "      <td>f</td>\n",
              "      <td>f</td>\n",
              "      <td>f</td>\n",
              "      <td>f</td>\n",
              "      <td>f</td>\n",
              "      <td>f</td>\n",
              "      <td>f</td>\n",
              "      <td>...</td>\n",
              "      <td>t</td>\n",
              "      <td>125.0</td>\n",
              "      <td>t</td>\n",
              "      <td>1.14</td>\n",
              "      <td>t</td>\n",
              "      <td>109.0</td>\n",
              "      <td>f</td>\n",
              "      <td>NaN</td>\n",
              "      <td>SVHC</td>\n",
              "      <td>negative.|3733</td>\n",
              "    </tr>\n",
              "    <tr>\n",
              "      <th>1</th>\n",
              "      <td>23.0</td>\n",
              "      <td>F</td>\n",
              "      <td>f</td>\n",
              "      <td>f</td>\n",
              "      <td>f</td>\n",
              "      <td>f</td>\n",
              "      <td>f</td>\n",
              "      <td>f</td>\n",
              "      <td>f</td>\n",
              "      <td>f</td>\n",
              "      <td>...</td>\n",
              "      <td>t</td>\n",
              "      <td>102.0</td>\n",
              "      <td>f</td>\n",
              "      <td>NaN</td>\n",
              "      <td>f</td>\n",
              "      <td>NaN</td>\n",
              "      <td>f</td>\n",
              "      <td>NaN</td>\n",
              "      <td>other</td>\n",
              "      <td>negative.|1442</td>\n",
              "    </tr>\n",
              "    <tr>\n",
              "      <th>2</th>\n",
              "      <td>46.0</td>\n",
              "      <td>M</td>\n",
              "      <td>f</td>\n",
              "      <td>f</td>\n",
              "      <td>f</td>\n",
              "      <td>f</td>\n",
              "      <td>f</td>\n",
              "      <td>f</td>\n",
              "      <td>f</td>\n",
              "      <td>f</td>\n",
              "      <td>...</td>\n",
              "      <td>t</td>\n",
              "      <td>109.0</td>\n",
              "      <td>t</td>\n",
              "      <td>0.91</td>\n",
              "      <td>t</td>\n",
              "      <td>120.0</td>\n",
              "      <td>f</td>\n",
              "      <td>NaN</td>\n",
              "      <td>other</td>\n",
              "      <td>negative.|2965</td>\n",
              "    </tr>\n",
              "    <tr>\n",
              "      <th>3</th>\n",
              "      <td>70.0</td>\n",
              "      <td>F</td>\n",
              "      <td>t</td>\n",
              "      <td>f</td>\n",
              "      <td>f</td>\n",
              "      <td>f</td>\n",
              "      <td>f</td>\n",
              "      <td>f</td>\n",
              "      <td>f</td>\n",
              "      <td>f</td>\n",
              "      <td>...</td>\n",
              "      <td>t</td>\n",
              "      <td>175.0</td>\n",
              "      <td>f</td>\n",
              "      <td>NaN</td>\n",
              "      <td>f</td>\n",
              "      <td>NaN</td>\n",
              "      <td>f</td>\n",
              "      <td>NaN</td>\n",
              "      <td>other</td>\n",
              "      <td>negative.|806</td>\n",
              "    </tr>\n",
              "    <tr>\n",
              "      <th>4</th>\n",
              "      <td>70.0</td>\n",
              "      <td>F</td>\n",
              "      <td>f</td>\n",
              "      <td>f</td>\n",
              "      <td>f</td>\n",
              "      <td>f</td>\n",
              "      <td>f</td>\n",
              "      <td>f</td>\n",
              "      <td>f</td>\n",
              "      <td>f</td>\n",
              "      <td>...</td>\n",
              "      <td>t</td>\n",
              "      <td>61.0</td>\n",
              "      <td>t</td>\n",
              "      <td>0.87</td>\n",
              "      <td>t</td>\n",
              "      <td>70.0</td>\n",
              "      <td>f</td>\n",
              "      <td>NaN</td>\n",
              "      <td>SVI</td>\n",
              "      <td>negative.|2807</td>\n",
              "    </tr>\n",
              "  </tbody>\n",
              "</table>\n",
              "<p>5 rows × 30 columns</p>\n",
              "</div>"
            ],
            "text/plain": [
              "    age sex on_thyroxine query_on_thyroxine on_antithyroid_medication sick  \\\n",
              "0  41.0   F            f                  f                         f    f   \n",
              "1  23.0   F            f                  f                         f    f   \n",
              "2  46.0   M            f                  f                         f    f   \n",
              "3  70.0   F            t                  f                         f    f   \n",
              "4  70.0   F            f                  f                         f    f   \n",
              "\n",
              "  pregnant thyroid_surgery I131_treatment query_hypothyroid  ... TT4_measured  \\\n",
              "0        f               f              f                 f  ...            t   \n",
              "1        f               f              f                 f  ...            t   \n",
              "2        f               f              f                 f  ...            t   \n",
              "3        f               f              f                 f  ...            t   \n",
              "4        f               f              f                 f  ...            t   \n",
              "\n",
              "     TT4 T4U_measured   T4U FTI_measured    FTI TBG_measured  TBG  \\\n",
              "0  125.0            t  1.14            t  109.0            f  NaN   \n",
              "1  102.0            f   NaN            f    NaN            f  NaN   \n",
              "2  109.0            t  0.91            t  120.0            f  NaN   \n",
              "3  175.0            f   NaN            f    NaN            f  NaN   \n",
              "4   61.0            t  0.87            t   70.0            f  NaN   \n",
              "\n",
              "  referral_source         classes  \n",
              "0            SVHC  negative.|3733  \n",
              "1           other  negative.|1442  \n",
              "2           other  negative.|2965  \n",
              "3           other   negative.|806  \n",
              "4             SVI  negative.|2807  \n",
              "\n",
              "[5 rows x 30 columns]"
            ]
          },
          "execution_count": 17,
          "metadata": {},
          "output_type": "execute_result"
        }
      ],
      "source": [
        "df=pd.read_csv('https://archive.ics.uci.edu/ml/machine-learning-databases/thyroid-disease/allhyper.data',names=names,na_values='?')\n",
        "df.head()"
      ]
    },
    {
      "cell_type": "code",
      "execution_count": 18,
      "metadata": {
        "colab": {
          "base_uri": "https://localhost:8080/"
        },
        "id": "XPZ3NF0Q_A8G",
        "outputId": "374e59ea-70d3-416e-c889-2723b00f166c"
      },
      "outputs": [
        {
          "name": "stdout",
          "output_type": "stream",
          "text": [
            "<class 'pandas.core.frame.DataFrame'>\n",
            "RangeIndex: 2800 entries, 0 to 2799\n",
            "Data columns (total 30 columns):\n",
            " #   Column                     Non-Null Count  Dtype  \n",
            "---  ------                     --------------  -----  \n",
            " 0   age                        2799 non-null   float64\n",
            " 1   sex                        2690 non-null   object \n",
            " 2   on_thyroxine               2800 non-null   object \n",
            " 3   query_on_thyroxine         2800 non-null   object \n",
            " 4   on_antithyroid_medication  2800 non-null   object \n",
            " 5   sick                       2800 non-null   object \n",
            " 6   pregnant                   2800 non-null   object \n",
            " 7   thyroid_surgery            2800 non-null   object \n",
            " 8   I131_treatment             2800 non-null   object \n",
            " 9   query_hypothyroid          2800 non-null   object \n",
            " 10  query_hyperthyroid         2800 non-null   object \n",
            " 11  lithium                    2800 non-null   object \n",
            " 12  goitre                     2800 non-null   object \n",
            " 13  tumor                      2800 non-null   object \n",
            " 14  hypopituitary              2800 non-null   object \n",
            " 15  psych                      2800 non-null   object \n",
            " 16  TSH_measured               2800 non-null   object \n",
            " 17  TSH                        2516 non-null   float64\n",
            " 18  T3_measured                2800 non-null   object \n",
            " 19  T3                         2215 non-null   float64\n",
            " 20  TT4_measured               2800 non-null   object \n",
            " 21  TT4                        2616 non-null   float64\n",
            " 22  T4U_measured               2800 non-null   object \n",
            " 23  T4U                        2503 non-null   float64\n",
            " 24  FTI_measured               2800 non-null   object \n",
            " 25  FTI                        2505 non-null   float64\n",
            " 26  TBG_measured               2800 non-null   object \n",
            " 27  TBG                        0 non-null      float64\n",
            " 28  referral_source            2800 non-null   object \n",
            " 29  classes                    2800 non-null   object \n",
            "dtypes: float64(7), object(23)\n",
            "memory usage: 656.4+ KB\n"
          ]
        }
      ],
      "source": [
        "df.info()"
      ]
    },
    {
      "cell_type": "code",
      "execution_count": 19,
      "metadata": {
        "id": "2EnmHw4H9hn1"
      },
      "outputs": [],
      "source": [
        "#Will split the 'classes' column as it looking weired\n",
        "last=df.classes.str.split('.',expand=True)\n",
        "df[['last','final']]=last\n",
        "data=df.drop(['classes','final'],axis=1)"
      ]
    },
    {
      "cell_type": "code",
      "execution_count": 20,
      "metadata": {
        "colab": {
          "base_uri": "https://localhost:8080/",
          "height": 270
        },
        "id": "0_ymIf4w9hn2",
        "outputId": "e4a1fb6b-80d1-407f-f5cf-7b77b6268c24"
      },
      "outputs": [
        {
          "data": {
            "text/html": [
              "<div>\n",
              "<style scoped>\n",
              "    .dataframe tbody tr th:only-of-type {\n",
              "        vertical-align: middle;\n",
              "    }\n",
              "\n",
              "    .dataframe tbody tr th {\n",
              "        vertical-align: top;\n",
              "    }\n",
              "\n",
              "    .dataframe thead th {\n",
              "        text-align: right;\n",
              "    }\n",
              "</style>\n",
              "<table border=\"1\" class=\"dataframe\">\n",
              "  <thead>\n",
              "    <tr style=\"text-align: right;\">\n",
              "      <th></th>\n",
              "      <th>age</th>\n",
              "      <th>sex</th>\n",
              "      <th>on_thyroxine</th>\n",
              "      <th>query_on_thyroxine</th>\n",
              "      <th>on_antithyroid_medication</th>\n",
              "      <th>sick</th>\n",
              "      <th>pregnant</th>\n",
              "      <th>thyroid_surgery</th>\n",
              "      <th>I131_treatment</th>\n",
              "      <th>query_hypothyroid</th>\n",
              "      <th>...</th>\n",
              "      <th>TT4_measured</th>\n",
              "      <th>TT4</th>\n",
              "      <th>T4U_measured</th>\n",
              "      <th>T4U</th>\n",
              "      <th>FTI_measured</th>\n",
              "      <th>FTI</th>\n",
              "      <th>TBG_measured</th>\n",
              "      <th>TBG</th>\n",
              "      <th>referral_source</th>\n",
              "      <th>classes</th>\n",
              "    </tr>\n",
              "  </thead>\n",
              "  <tbody>\n",
              "    <tr>\n",
              "      <th>0</th>\n",
              "      <td>41.0</td>\n",
              "      <td>F</td>\n",
              "      <td>f</td>\n",
              "      <td>f</td>\n",
              "      <td>f</td>\n",
              "      <td>f</td>\n",
              "      <td>f</td>\n",
              "      <td>f</td>\n",
              "      <td>f</td>\n",
              "      <td>f</td>\n",
              "      <td>...</td>\n",
              "      <td>t</td>\n",
              "      <td>125.0</td>\n",
              "      <td>t</td>\n",
              "      <td>1.14</td>\n",
              "      <td>t</td>\n",
              "      <td>109.0</td>\n",
              "      <td>f</td>\n",
              "      <td>NaN</td>\n",
              "      <td>SVHC</td>\n",
              "      <td>negative</td>\n",
              "    </tr>\n",
              "    <tr>\n",
              "      <th>1</th>\n",
              "      <td>23.0</td>\n",
              "      <td>F</td>\n",
              "      <td>f</td>\n",
              "      <td>f</td>\n",
              "      <td>f</td>\n",
              "      <td>f</td>\n",
              "      <td>f</td>\n",
              "      <td>f</td>\n",
              "      <td>f</td>\n",
              "      <td>f</td>\n",
              "      <td>...</td>\n",
              "      <td>t</td>\n",
              "      <td>102.0</td>\n",
              "      <td>f</td>\n",
              "      <td>NaN</td>\n",
              "      <td>f</td>\n",
              "      <td>NaN</td>\n",
              "      <td>f</td>\n",
              "      <td>NaN</td>\n",
              "      <td>other</td>\n",
              "      <td>negative</td>\n",
              "    </tr>\n",
              "    <tr>\n",
              "      <th>2</th>\n",
              "      <td>46.0</td>\n",
              "      <td>M</td>\n",
              "      <td>f</td>\n",
              "      <td>f</td>\n",
              "      <td>f</td>\n",
              "      <td>f</td>\n",
              "      <td>f</td>\n",
              "      <td>f</td>\n",
              "      <td>f</td>\n",
              "      <td>f</td>\n",
              "      <td>...</td>\n",
              "      <td>t</td>\n",
              "      <td>109.0</td>\n",
              "      <td>t</td>\n",
              "      <td>0.91</td>\n",
              "      <td>t</td>\n",
              "      <td>120.0</td>\n",
              "      <td>f</td>\n",
              "      <td>NaN</td>\n",
              "      <td>other</td>\n",
              "      <td>negative</td>\n",
              "    </tr>\n",
              "    <tr>\n",
              "      <th>3</th>\n",
              "      <td>70.0</td>\n",
              "      <td>F</td>\n",
              "      <td>t</td>\n",
              "      <td>f</td>\n",
              "      <td>f</td>\n",
              "      <td>f</td>\n",
              "      <td>f</td>\n",
              "      <td>f</td>\n",
              "      <td>f</td>\n",
              "      <td>f</td>\n",
              "      <td>...</td>\n",
              "      <td>t</td>\n",
              "      <td>175.0</td>\n",
              "      <td>f</td>\n",
              "      <td>NaN</td>\n",
              "      <td>f</td>\n",
              "      <td>NaN</td>\n",
              "      <td>f</td>\n",
              "      <td>NaN</td>\n",
              "      <td>other</td>\n",
              "      <td>negative</td>\n",
              "    </tr>\n",
              "    <tr>\n",
              "      <th>4</th>\n",
              "      <td>70.0</td>\n",
              "      <td>F</td>\n",
              "      <td>f</td>\n",
              "      <td>f</td>\n",
              "      <td>f</td>\n",
              "      <td>f</td>\n",
              "      <td>f</td>\n",
              "      <td>f</td>\n",
              "      <td>f</td>\n",
              "      <td>f</td>\n",
              "      <td>...</td>\n",
              "      <td>t</td>\n",
              "      <td>61.0</td>\n",
              "      <td>t</td>\n",
              "      <td>0.87</td>\n",
              "      <td>t</td>\n",
              "      <td>70.0</td>\n",
              "      <td>f</td>\n",
              "      <td>NaN</td>\n",
              "      <td>SVI</td>\n",
              "      <td>negative</td>\n",
              "    </tr>\n",
              "  </tbody>\n",
              "</table>\n",
              "<p>5 rows × 30 columns</p>\n",
              "</div>"
            ],
            "text/plain": [
              "    age sex on_thyroxine query_on_thyroxine on_antithyroid_medication sick  \\\n",
              "0  41.0   F            f                  f                         f    f   \n",
              "1  23.0   F            f                  f                         f    f   \n",
              "2  46.0   M            f                  f                         f    f   \n",
              "3  70.0   F            t                  f                         f    f   \n",
              "4  70.0   F            f                  f                         f    f   \n",
              "\n",
              "  pregnant thyroid_surgery I131_treatment query_hypothyroid  ... TT4_measured  \\\n",
              "0        f               f              f                 f  ...            t   \n",
              "1        f               f              f                 f  ...            t   \n",
              "2        f               f              f                 f  ...            t   \n",
              "3        f               f              f                 f  ...            t   \n",
              "4        f               f              f                 f  ...            t   \n",
              "\n",
              "     TT4 T4U_measured   T4U FTI_measured    FTI TBG_measured  TBG  \\\n",
              "0  125.0            t  1.14            t  109.0            f  NaN   \n",
              "1  102.0            f   NaN            f    NaN            f  NaN   \n",
              "2  109.0            t  0.91            t  120.0            f  NaN   \n",
              "3  175.0            f   NaN            f    NaN            f  NaN   \n",
              "4   61.0            t  0.87            t   70.0            f  NaN   \n",
              "\n",
              "  referral_source   classes  \n",
              "0            SVHC  negative  \n",
              "1           other  negative  \n",
              "2           other  negative  \n",
              "3           other  negative  \n",
              "4             SVI  negative  \n",
              "\n",
              "[5 rows x 30 columns]"
            ]
          },
          "execution_count": 20,
          "metadata": {},
          "output_type": "execute_result"
        }
      ],
      "source": [
        "data_final=data.rename(columns={'last':'classes'})\n",
        "data_final.head()"
      ]
    },
    {
      "cell_type": "code",
      "execution_count": 21,
      "metadata": {
        "colab": {
          "base_uri": "https://localhost:8080/"
        },
        "id": "ku7zwkXq9hn2",
        "outputId": "e58026da-e766-43d7-993c-6f270c88e81d"
      },
      "outputs": [
        {
          "name": "stdout",
          "output_type": "stream",
          "text": [
            "<class 'pandas.core.frame.DataFrame'>\n",
            "RangeIndex: 2800 entries, 0 to 2799\n",
            "Data columns (total 30 columns):\n",
            " #   Column                     Non-Null Count  Dtype  \n",
            "---  ------                     --------------  -----  \n",
            " 0   age                        2799 non-null   float64\n",
            " 1   sex                        2690 non-null   object \n",
            " 2   on_thyroxine               2800 non-null   object \n",
            " 3   query_on_thyroxine         2800 non-null   object \n",
            " 4   on_antithyroid_medication  2800 non-null   object \n",
            " 5   sick                       2800 non-null   object \n",
            " 6   pregnant                   2800 non-null   object \n",
            " 7   thyroid_surgery            2800 non-null   object \n",
            " 8   I131_treatment             2800 non-null   object \n",
            " 9   query_hypothyroid          2800 non-null   object \n",
            " 10  query_hyperthyroid         2800 non-null   object \n",
            " 11  lithium                    2800 non-null   object \n",
            " 12  goitre                     2800 non-null   object \n",
            " 13  tumor                      2800 non-null   object \n",
            " 14  hypopituitary              2800 non-null   object \n",
            " 15  psych                      2800 non-null   object \n",
            " 16  TSH_measured               2800 non-null   object \n",
            " 17  TSH                        2516 non-null   float64\n",
            " 18  T3_measured                2800 non-null   object \n",
            " 19  T3                         2215 non-null   float64\n",
            " 20  TT4_measured               2800 non-null   object \n",
            " 21  TT4                        2616 non-null   float64\n",
            " 22  T4U_measured               2800 non-null   object \n",
            " 23  T4U                        2503 non-null   float64\n",
            " 24  FTI_measured               2800 non-null   object \n",
            " 25  FTI                        2505 non-null   float64\n",
            " 26  TBG_measured               2800 non-null   object \n",
            " 27  TBG                        0 non-null      float64\n",
            " 28  referral_source            2800 non-null   object \n",
            " 29  classes                    2800 non-null   object \n",
            "dtypes: float64(7), object(23)\n",
            "memory usage: 656.4+ KB\n"
          ]
        }
      ],
      "source": [
        "data_final.info()"
      ]
    },
    {
      "cell_type": "code",
      "execution_count": 22,
      "metadata": {
        "colab": {
          "base_uri": "https://localhost:8080/"
        },
        "id": "VODkHVDM9hn3",
        "outputId": "5f24785a-5164-45ef-cb4b-c8d3b7aa27ff"
      },
      "outputs": [
        {
          "data": {
            "text/plain": [
              "(2800, 30)"
            ]
          },
          "execution_count": 22,
          "metadata": {},
          "output_type": "execute_result"
        }
      ],
      "source": [
        "data_final.shape"
      ]
    },
    {
      "cell_type": "code",
      "execution_count": 23,
      "metadata": {
        "id": "J11IgHtz9hn3"
      },
      "outputs": [],
      "source": [
        "data.to_csv('Thyroid_Data.csv')"
      ]
    },
    {
      "cell_type": "code",
      "execution_count": 24,
      "metadata": {
        "id": "1WSJqnl-9hn4"
      },
      "outputs": [],
      "source": [
        "## EDA"
      ]
    },
    {
      "cell_type": "markdown",
      "metadata": {
        "id": "2o8Yd73v9hn5"
      },
      "source": [
        "#Age, TSH have outliers"
      ]
    },
    {
      "cell_type": "code",
      "execution_count": 25,
      "metadata": {
        "id": "fTrBWtgJ9hn7"
      },
      "outputs": [],
      "source": [
        "#Will drop TBG feature as it has completely nan values\n",
        "\n",
        "data_final=data_final.drop('TBG',axis=1)"
      ]
    },
    {
      "cell_type": "code",
      "execution_count": 26,
      "metadata": {
        "id": "PmO86zap9hn7"
      },
      "outputs": [],
      "source": [
        "data_final=data_final.drop('TSH_measured',axis=1)"
      ]
    },
    {
      "cell_type": "code",
      "execution_count": 27,
      "metadata": {
        "colab": {
          "base_uri": "https://localhost:8080/",
          "height": 270
        },
        "id": "gBwNEU2l9hn8",
        "outputId": "dd0181a6-6425-4fd5-a514-88a933d2dc38"
      },
      "outputs": [
        {
          "data": {
            "text/html": [
              "<div>\n",
              "<style scoped>\n",
              "    .dataframe tbody tr th:only-of-type {\n",
              "        vertical-align: middle;\n",
              "    }\n",
              "\n",
              "    .dataframe tbody tr th {\n",
              "        vertical-align: top;\n",
              "    }\n",
              "\n",
              "    .dataframe thead th {\n",
              "        text-align: right;\n",
              "    }\n",
              "</style>\n",
              "<table border=\"1\" class=\"dataframe\">\n",
              "  <thead>\n",
              "    <tr style=\"text-align: right;\">\n",
              "      <th></th>\n",
              "      <th>age</th>\n",
              "      <th>sex</th>\n",
              "      <th>on_thyroxine</th>\n",
              "      <th>query_on_thyroxine</th>\n",
              "      <th>on_antithyroid_medication</th>\n",
              "      <th>sick</th>\n",
              "      <th>pregnant</th>\n",
              "      <th>thyroid_surgery</th>\n",
              "      <th>I131_treatment</th>\n",
              "      <th>query_hypothyroid</th>\n",
              "      <th>...</th>\n",
              "      <th>T3</th>\n",
              "      <th>TT4_measured</th>\n",
              "      <th>TT4</th>\n",
              "      <th>T4U_measured</th>\n",
              "      <th>T4U</th>\n",
              "      <th>FTI_measured</th>\n",
              "      <th>FTI</th>\n",
              "      <th>TBG_measured</th>\n",
              "      <th>referral_source</th>\n",
              "      <th>classes</th>\n",
              "    </tr>\n",
              "  </thead>\n",
              "  <tbody>\n",
              "    <tr>\n",
              "      <th>0</th>\n",
              "      <td>41.0</td>\n",
              "      <td>F</td>\n",
              "      <td>f</td>\n",
              "      <td>f</td>\n",
              "      <td>f</td>\n",
              "      <td>f</td>\n",
              "      <td>f</td>\n",
              "      <td>f</td>\n",
              "      <td>f</td>\n",
              "      <td>f</td>\n",
              "      <td>...</td>\n",
              "      <td>2.5</td>\n",
              "      <td>t</td>\n",
              "      <td>125.0</td>\n",
              "      <td>t</td>\n",
              "      <td>1.14</td>\n",
              "      <td>t</td>\n",
              "      <td>109.0</td>\n",
              "      <td>f</td>\n",
              "      <td>SVHC</td>\n",
              "      <td>negative</td>\n",
              "    </tr>\n",
              "    <tr>\n",
              "      <th>1</th>\n",
              "      <td>23.0</td>\n",
              "      <td>F</td>\n",
              "      <td>f</td>\n",
              "      <td>f</td>\n",
              "      <td>f</td>\n",
              "      <td>f</td>\n",
              "      <td>f</td>\n",
              "      <td>f</td>\n",
              "      <td>f</td>\n",
              "      <td>f</td>\n",
              "      <td>...</td>\n",
              "      <td>2.0</td>\n",
              "      <td>t</td>\n",
              "      <td>102.0</td>\n",
              "      <td>f</td>\n",
              "      <td>NaN</td>\n",
              "      <td>f</td>\n",
              "      <td>NaN</td>\n",
              "      <td>f</td>\n",
              "      <td>other</td>\n",
              "      <td>negative</td>\n",
              "    </tr>\n",
              "    <tr>\n",
              "      <th>2</th>\n",
              "      <td>46.0</td>\n",
              "      <td>M</td>\n",
              "      <td>f</td>\n",
              "      <td>f</td>\n",
              "      <td>f</td>\n",
              "      <td>f</td>\n",
              "      <td>f</td>\n",
              "      <td>f</td>\n",
              "      <td>f</td>\n",
              "      <td>f</td>\n",
              "      <td>...</td>\n",
              "      <td>NaN</td>\n",
              "      <td>t</td>\n",
              "      <td>109.0</td>\n",
              "      <td>t</td>\n",
              "      <td>0.91</td>\n",
              "      <td>t</td>\n",
              "      <td>120.0</td>\n",
              "      <td>f</td>\n",
              "      <td>other</td>\n",
              "      <td>negative</td>\n",
              "    </tr>\n",
              "    <tr>\n",
              "      <th>3</th>\n",
              "      <td>70.0</td>\n",
              "      <td>F</td>\n",
              "      <td>t</td>\n",
              "      <td>f</td>\n",
              "      <td>f</td>\n",
              "      <td>f</td>\n",
              "      <td>f</td>\n",
              "      <td>f</td>\n",
              "      <td>f</td>\n",
              "      <td>f</td>\n",
              "      <td>...</td>\n",
              "      <td>1.9</td>\n",
              "      <td>t</td>\n",
              "      <td>175.0</td>\n",
              "      <td>f</td>\n",
              "      <td>NaN</td>\n",
              "      <td>f</td>\n",
              "      <td>NaN</td>\n",
              "      <td>f</td>\n",
              "      <td>other</td>\n",
              "      <td>negative</td>\n",
              "    </tr>\n",
              "    <tr>\n",
              "      <th>4</th>\n",
              "      <td>70.0</td>\n",
              "      <td>F</td>\n",
              "      <td>f</td>\n",
              "      <td>f</td>\n",
              "      <td>f</td>\n",
              "      <td>f</td>\n",
              "      <td>f</td>\n",
              "      <td>f</td>\n",
              "      <td>f</td>\n",
              "      <td>f</td>\n",
              "      <td>...</td>\n",
              "      <td>1.2</td>\n",
              "      <td>t</td>\n",
              "      <td>61.0</td>\n",
              "      <td>t</td>\n",
              "      <td>0.87</td>\n",
              "      <td>t</td>\n",
              "      <td>70.0</td>\n",
              "      <td>f</td>\n",
              "      <td>SVI</td>\n",
              "      <td>negative</td>\n",
              "    </tr>\n",
              "  </tbody>\n",
              "</table>\n",
              "<p>5 rows × 28 columns</p>\n",
              "</div>"
            ],
            "text/plain": [
              "    age sex on_thyroxine query_on_thyroxine on_antithyroid_medication sick  \\\n",
              "0  41.0   F            f                  f                         f    f   \n",
              "1  23.0   F            f                  f                         f    f   \n",
              "2  46.0   M            f                  f                         f    f   \n",
              "3  70.0   F            t                  f                         f    f   \n",
              "4  70.0   F            f                  f                         f    f   \n",
              "\n",
              "  pregnant thyroid_surgery I131_treatment query_hypothyroid  ...   T3  \\\n",
              "0        f               f              f                 f  ...  2.5   \n",
              "1        f               f              f                 f  ...  2.0   \n",
              "2        f               f              f                 f  ...  NaN   \n",
              "3        f               f              f                 f  ...  1.9   \n",
              "4        f               f              f                 f  ...  1.2   \n",
              "\n",
              "  TT4_measured    TT4 T4U_measured   T4U FTI_measured    FTI TBG_measured  \\\n",
              "0            t  125.0            t  1.14            t  109.0            f   \n",
              "1            t  102.0            f   NaN            f    NaN            f   \n",
              "2            t  109.0            t  0.91            t  120.0            f   \n",
              "3            t  175.0            f   NaN            f    NaN            f   \n",
              "4            t   61.0            t  0.87            t   70.0            f   \n",
              "\n",
              "   referral_source   classes  \n",
              "0             SVHC  negative  \n",
              "1            other  negative  \n",
              "2            other  negative  \n",
              "3            other  negative  \n",
              "4              SVI  negative  \n",
              "\n",
              "[5 rows x 28 columns]"
            ]
          },
          "execution_count": 27,
          "metadata": {},
          "output_type": "execute_result"
        }
      ],
      "source": [
        "data_final.head()"
      ]
    },
    {
      "cell_type": "code",
      "execution_count": 28,
      "metadata": {
        "colab": {
          "base_uri": "https://localhost:8080/"
        },
        "id": "wY-0VZoF9hn8",
        "outputId": "0c41ac22-2cf1-462d-98bd-d4e7409f270a"
      },
      "outputs": [
        {
          "data": {
            "text/plain": [
              "age                            1\n",
              "sex                          110\n",
              "on_thyroxine                   0\n",
              "query_on_thyroxine             0\n",
              "on_antithyroid_medication      0\n",
              "sick                           0\n",
              "pregnant                       0\n",
              "thyroid_surgery                0\n",
              "I131_treatment                 0\n",
              "query_hypothyroid              0\n",
              "query_hyperthyroid             0\n",
              "lithium                        0\n",
              "goitre                         0\n",
              "tumor                          0\n",
              "hypopituitary                  0\n",
              "psych                          0\n",
              "TSH                          284\n",
              "T3_measured                    0\n",
              "T3                           585\n",
              "TT4_measured                   0\n",
              "TT4                          184\n",
              "T4U_measured                   0\n",
              "T4U                          297\n",
              "FTI_measured                   0\n",
              "FTI                          295\n",
              "TBG_measured                   0\n",
              "referral_source                0\n",
              "classes                        0\n",
              "dtype: int64"
            ]
          },
          "execution_count": 28,
          "metadata": {},
          "output_type": "execute_result"
        }
      ],
      "source": [
        "#Check the null-values of data\n",
        "data_final.isnull().sum()"
      ]
    },
    {
      "cell_type": "code",
      "execution_count": 29,
      "metadata": {
        "colab": {
          "base_uri": "https://localhost:8080/"
        },
        "id": "oOCCSX8p9hn9",
        "outputId": "8f51477e-7a01-4f42-e216-e72ca0d0aeae"
      },
      "outputs": [
        {
          "data": {
            "text/plain": [
              "age                           0.035714\n",
              "sex                           3.928571\n",
              "on_thyroxine                  0.000000\n",
              "query_on_thyroxine            0.000000\n",
              "on_antithyroid_medication     0.000000\n",
              "sick                          0.000000\n",
              "pregnant                      0.000000\n",
              "thyroid_surgery               0.000000\n",
              "I131_treatment                0.000000\n",
              "query_hypothyroid             0.000000\n",
              "query_hyperthyroid            0.000000\n",
              "lithium                       0.000000\n",
              "goitre                        0.000000\n",
              "tumor                         0.000000\n",
              "hypopituitary                 0.000000\n",
              "psych                         0.000000\n",
              "TSH                          10.142857\n",
              "T3_measured                   0.000000\n",
              "T3                           20.892857\n",
              "TT4_measured                  0.000000\n",
              "TT4                           6.571429\n",
              "T4U_measured                  0.000000\n",
              "T4U                          10.607143\n",
              "FTI_measured                  0.000000\n",
              "FTI                          10.535714\n",
              "TBG_measured                  0.000000\n",
              "referral_source               0.000000\n",
              "classes                       0.000000\n",
              "dtype: float64"
            ]
          },
          "execution_count": 29,
          "metadata": {},
          "output_type": "execute_result"
        }
      ],
      "source": [
        "#Print percentage of missing values\n",
        "data_final.isnull().mean()*100"
      ]
    },
    {
      "cell_type": "code",
      "execution_count": 30,
      "metadata": {
        "id": "GhS3iokZ9hn9"
      },
      "outputs": [],
      "source": [
        "#age,sex,TSH,T3,TT4,T4U,FTI,TBG have missing values."
      ]
    },
    {
      "cell_type": "code",
      "execution_count": 31,
      "metadata": {
        "colab": {
          "base_uri": "https://localhost:8080/",
          "height": 239
        },
        "id": "X9QsxB1E9hn9",
        "outputId": "f6565ac1-816a-4f48-ad55-c0598fb0fd82"
      },
      "outputs": [
        {
          "data": {
            "text/html": [
              "<div>\n",
              "<style scoped>\n",
              "    .dataframe tbody tr th:only-of-type {\n",
              "        vertical-align: middle;\n",
              "    }\n",
              "\n",
              "    .dataframe tbody tr th {\n",
              "        vertical-align: top;\n",
              "    }\n",
              "\n",
              "    .dataframe thead th {\n",
              "        text-align: right;\n",
              "    }\n",
              "</style>\n",
              "<table border=\"1\" class=\"dataframe\">\n",
              "  <thead>\n",
              "    <tr style=\"text-align: right;\">\n",
              "      <th></th>\n",
              "      <th>sex</th>\n",
              "      <th>on_thyroxine</th>\n",
              "      <th>query_on_thyroxine</th>\n",
              "      <th>on_antithyroid_medication</th>\n",
              "      <th>sick</th>\n",
              "      <th>pregnant</th>\n",
              "      <th>thyroid_surgery</th>\n",
              "      <th>I131_treatment</th>\n",
              "      <th>query_hypothyroid</th>\n",
              "      <th>query_hyperthyroid</th>\n",
              "      <th>...</th>\n",
              "      <th>tumor</th>\n",
              "      <th>hypopituitary</th>\n",
              "      <th>psych</th>\n",
              "      <th>T3_measured</th>\n",
              "      <th>TT4_measured</th>\n",
              "      <th>T4U_measured</th>\n",
              "      <th>FTI_measured</th>\n",
              "      <th>TBG_measured</th>\n",
              "      <th>referral_source</th>\n",
              "      <th>classes</th>\n",
              "    </tr>\n",
              "  </thead>\n",
              "  <tbody>\n",
              "    <tr>\n",
              "      <th>count</th>\n",
              "      <td>2690</td>\n",
              "      <td>2800</td>\n",
              "      <td>2800</td>\n",
              "      <td>2800</td>\n",
              "      <td>2800</td>\n",
              "      <td>2800</td>\n",
              "      <td>2800</td>\n",
              "      <td>2800</td>\n",
              "      <td>2800</td>\n",
              "      <td>2800</td>\n",
              "      <td>...</td>\n",
              "      <td>2800</td>\n",
              "      <td>2800</td>\n",
              "      <td>2800</td>\n",
              "      <td>2800</td>\n",
              "      <td>2800</td>\n",
              "      <td>2800</td>\n",
              "      <td>2800</td>\n",
              "      <td>2800</td>\n",
              "      <td>2800</td>\n",
              "      <td>2800</td>\n",
              "    </tr>\n",
              "    <tr>\n",
              "      <th>unique</th>\n",
              "      <td>2</td>\n",
              "      <td>2</td>\n",
              "      <td>2</td>\n",
              "      <td>2</td>\n",
              "      <td>2</td>\n",
              "      <td>2</td>\n",
              "      <td>2</td>\n",
              "      <td>2</td>\n",
              "      <td>2</td>\n",
              "      <td>2</td>\n",
              "      <td>...</td>\n",
              "      <td>2</td>\n",
              "      <td>2</td>\n",
              "      <td>2</td>\n",
              "      <td>2</td>\n",
              "      <td>2</td>\n",
              "      <td>2</td>\n",
              "      <td>2</td>\n",
              "      <td>1</td>\n",
              "      <td>5</td>\n",
              "      <td>4</td>\n",
              "    </tr>\n",
              "    <tr>\n",
              "      <th>top</th>\n",
              "      <td>F</td>\n",
              "      <td>f</td>\n",
              "      <td>f</td>\n",
              "      <td>f</td>\n",
              "      <td>f</td>\n",
              "      <td>f</td>\n",
              "      <td>f</td>\n",
              "      <td>f</td>\n",
              "      <td>f</td>\n",
              "      <td>f</td>\n",
              "      <td>...</td>\n",
              "      <td>f</td>\n",
              "      <td>f</td>\n",
              "      <td>f</td>\n",
              "      <td>t</td>\n",
              "      <td>t</td>\n",
              "      <td>t</td>\n",
              "      <td>t</td>\n",
              "      <td>f</td>\n",
              "      <td>other</td>\n",
              "      <td>negative</td>\n",
              "    </tr>\n",
              "    <tr>\n",
              "      <th>freq</th>\n",
              "      <td>1830</td>\n",
              "      <td>2470</td>\n",
              "      <td>2760</td>\n",
              "      <td>2766</td>\n",
              "      <td>2690</td>\n",
              "      <td>2759</td>\n",
              "      <td>2761</td>\n",
              "      <td>2752</td>\n",
              "      <td>2637</td>\n",
              "      <td>2627</td>\n",
              "      <td>...</td>\n",
              "      <td>2729</td>\n",
              "      <td>2799</td>\n",
              "      <td>2665</td>\n",
              "      <td>2215</td>\n",
              "      <td>2616</td>\n",
              "      <td>2503</td>\n",
              "      <td>2505</td>\n",
              "      <td>2800</td>\n",
              "      <td>1632</td>\n",
              "      <td>2723</td>\n",
              "    </tr>\n",
              "  </tbody>\n",
              "</table>\n",
              "<p>4 rows × 22 columns</p>\n",
              "</div>"
            ],
            "text/plain": [
              "         sex on_thyroxine query_on_thyroxine on_antithyroid_medication  sick  \\\n",
              "count   2690         2800               2800                      2800  2800   \n",
              "unique     2            2                  2                         2     2   \n",
              "top        F            f                  f                         f     f   \n",
              "freq    1830         2470               2760                      2766  2690   \n",
              "\n",
              "       pregnant thyroid_surgery I131_treatment query_hypothyroid  \\\n",
              "count      2800            2800           2800              2800   \n",
              "unique        2               2              2                 2   \n",
              "top           f               f              f                 f   \n",
              "freq       2759            2761           2752              2637   \n",
              "\n",
              "       query_hyperthyroid  ... tumor hypopituitary psych T3_measured  \\\n",
              "count                2800  ...  2800          2800  2800        2800   \n",
              "unique                  2  ...     2             2     2           2   \n",
              "top                     f  ...     f             f     f           t   \n",
              "freq                 2627  ...  2729          2799  2665        2215   \n",
              "\n",
              "       TT4_measured T4U_measured FTI_measured TBG_measured referral_source  \\\n",
              "count          2800         2800         2800         2800            2800   \n",
              "unique            2            2            2            1               5   \n",
              "top               t            t            t            f           other   \n",
              "freq           2616         2503         2505         2800            1632   \n",
              "\n",
              "         classes  \n",
              "count       2800  \n",
              "unique         4  \n",
              "top     negative  \n",
              "freq        2723  \n",
              "\n",
              "[4 rows x 22 columns]"
            ]
          },
          "execution_count": 31,
          "metadata": {},
          "output_type": "execute_result"
        }
      ],
      "source": [
        "categorical_features=data_final.select_dtypes(exclude='number')\n",
        "categorical_features.describe()"
      ]
    },
    {
      "cell_type": "code",
      "execution_count": 32,
      "metadata": {
        "colab": {
          "base_uri": "https://localhost:8080/"
        },
        "id": "2QVITgVL9hn-",
        "outputId": "48f0d8a4-4bb1-49a4-8ca4-84a4a0df6bd6"
      },
      "outputs": [
        {
          "name": "stdout",
          "output_type": "stream",
          "text": [
            "---------------------------------\n",
            "sex:['F' 'M' nan]\n",
            "---------------------------------\n",
            "on_thyroxine:['f' 't']\n",
            "---------------------------------\n",
            "query_on_thyroxine:['f' 't']\n",
            "---------------------------------\n",
            "on_antithyroid_medication:['f' 't']\n",
            "---------------------------------\n",
            "sick:['f' 't']\n",
            "---------------------------------\n",
            "pregnant:['f' 't']\n",
            "---------------------------------\n",
            "thyroid_surgery:['f' 't']\n",
            "---------------------------------\n",
            "I131_treatment:['f' 't']\n",
            "---------------------------------\n",
            "query_hypothyroid:['f' 't']\n",
            "---------------------------------\n",
            "query_hyperthyroid:['f' 't']\n",
            "---------------------------------\n",
            "lithium:['f' 't']\n",
            "---------------------------------\n",
            "goitre:['f' 't']\n",
            "---------------------------------\n",
            "tumor:['f' 't']\n",
            "---------------------------------\n",
            "hypopituitary:['f' 't']\n",
            "---------------------------------\n",
            "psych:['f' 't']\n",
            "---------------------------------\n",
            "T3_measured:['t' 'f']\n",
            "---------------------------------\n",
            "TT4_measured:['t' 'f']\n",
            "---------------------------------\n",
            "T4U_measured:['t' 'f']\n",
            "---------------------------------\n",
            "FTI_measured:['t' 'f']\n",
            "---------------------------------\n",
            "TBG_measured:['f']\n",
            "---------------------------------\n",
            "referral_source:['SVHC' 'other' 'SVI' 'STMW' 'SVHD']\n",
            "---------------------------------\n",
            "classes:['negative' 'hyperthyroid' 'T3 toxic' 'goitre']\n"
          ]
        }
      ],
      "source": [
        "# Checking all the unique values inside categorical features\n",
        "for feature in categorical_features:\n",
        "    print('---------------------------------')\n",
        "    print(f\"{feature}:{categorical_features[feature].unique()}\")\n"
      ]
    },
    {
      "cell_type": "markdown",
      "metadata": {
        "id": "kI0d8Y_H9hn-"
      },
      "source": [
        "## Data Visualization"
      ]
    },
    {
      "cell_type": "code",
      "execution_count": 33,
      "metadata": {
        "id": "6uRD-wVc9hn_"
      },
      "outputs": [],
      "source": [
        "import matplotlib.pyplot as plt"
      ]
    },
    {
      "cell_type": "code",
      "execution_count": 34,
      "metadata": {
        "colab": {
          "base_uri": "https://localhost:8080/",
          "height": 0
        },
        "id": "ygEZVd1S9hn_",
        "outputId": "78353bd1-f154-472e-eae3-b123857510ef"
      },
      "outputs": [
        {
          "data": {
            "image/png": "[encoded data removed]",
            "text/plain": [
              "<Figure size 1080x1296 with 6 Axes>"
            ]
          },
          "metadata": {
            "needs_background": "light"
          },
          "output_type": "display_data"
        }
      ],
      "source": [
        "#will check the distribution of all the variables.\n",
        "\n",
        "def show_hist(x):\n",
        "    plt.rcParams['figure.figsize']=15,18\n",
        "    x.hist()\n",
        "    \n",
        "show_hist(data_final)"
      ]
    },
    {
      "cell_type": "markdown",
      "metadata": {
        "id": "ajBqvuw69hn_"
      },
      "source": [
        "#Most Features are not following the normal distribution, we need to standardise the data"
      ]
    },
    {
      "cell_type": "markdown",
      "metadata": {
        "id": "Rc1lM6bh9hn_"
      },
      "source": [
        "## Bivariate Analysis"
      ]
    },
    {
      "cell_type": "code",
      "execution_count": 35,
      "metadata": {
        "colab": {
          "base_uri": "https://localhost:8080/",
          "height": 0
        },
        "id": "Nr_n4Mt89hn_",
        "outputId": "56c9e738-542a-4dea-cbd9-bee04a733058"
      },
      "outputs": [
        {
          "data": {
            "image/png": "[encoded data removed]",
            "text/plain": [
              "<Figure size 1171.12x1080 with 42 Axes>"
            ]
          },
          "metadata": {},
          "output_type": "display_data"
        }
      ],
      "source": [
        "import seaborn as sns\n",
        "\n",
        "sns.set_style(\"whitegrid\")\n",
        "sns.pairplot(data_final, hue ='classes')\n",
        "plt.show() "
      ]
    },
    {
      "cell_type": "markdown",
      "metadata": {
        "id": "BVOcJJl09hoA"
      },
      "source": [
        "## Detecting Outliers"
      ]
    },
    {
      "cell_type": "markdown",
      "metadata": {
        "id": "LwRgCtyu9hoA"
      },
      "source": [
        "#### Boxplots"
      ]
    },
    {
      "cell_type": "code",
      "execution_count": 37,
      "metadata": {
        "colab": {
          "base_uri": "https://localhost:8080/",
          "height": 0
        },
        "id": "tuOWS4mm9hoA",
        "outputId": "8570da36-758e-44fe-e4f1-8414c25f5a41"
      },
      "outputs": [
        {
          "data": {
            "text/plain": [
              "<AxesSubplot:xlabel='classes', ylabel='FTI'>"
            ]
          },
          "execution_count": 37,
          "metadata": {},
          "output_type": "execute_result"
        },
        {
          "data": {
            "image/png": "[encoded data removed]",
            "text/plain": [
              "<Figure size 1296x720 with 6 Axes>"
            ]
          },
          "metadata": {},
          "output_type": "display_data"
        }
      ],
      "source": [
        "fig, axes = plt.subplots(3,2, figsize=(18, 10))\n",
        "  \n",
        "\n",
        "sns.boxplot(ax=axes[0, 0], data=data_final, x='classes', y='age')\n",
        "sns.boxplot(ax=axes[0, 1], data=data_final, x='classes', y='TSH')\n",
        "sns.boxplot(ax=axes[1, 0], data=data_final, x='classes', y='T3')\n",
        "sns.boxplot(ax=axes[1, 1], data=data_final, x='classes', y='TT4')\n",
        "sns.boxplot(ax=axes[2, 0], data=data_final, x='classes', y='T4U')\n",
        "sns.boxplot(ax=axes[2, 1], data=data_final, x='classes', y='FTI')"
      ]
    },
    {
      "cell_type": "markdown",
      "metadata": {
        "id": "IA_9MPEy9hoA"
      },
      "source": [
        "\n",
        "#From the graph, we can easily identify that there are outliers in the data, which needs to be removed or handled"
      ]
    },
    {
      "cell_type": "markdown",
      "metadata": {
        "id": "wbjvnqYH9hoB"
      },
      "source": [
        "## Feature Engineering"
      ]
    },
    {
      "cell_type": "markdown",
      "metadata": {
        "id": "yh7y50b29hoB"
      },
      "source": [
        "## Handling missing values"
      ]
    },
    {
      "cell_type": "code",
      "execution_count": 38,
      "metadata": {
        "id": "hk51aW_j9hoB"
      },
      "outputs": [],
      "source": [
        "from sklearn.impute import SimpleImputer\n",
        "\n",
        "#Handle numerical features\n",
        "simple_imputer=SimpleImputer(strategy='median')\n",
        "numerical_missing=pd.DataFrame(simple_imputer.fit_transform(data_final.select_dtypes(exclude='O')))\n",
        "\n",
        "#Handle categorical features\n",
        "cat_imputation=SimpleImputer(strategy='most_frequent')\n",
        "categorical_missing=pd.DataFrame(cat_imputation.fit_transform(data_final.select_dtypes(exclude='number')))\n",
        "\n",
        "numerical_missing.columns=data_final.select_dtypes(exclude='O').columns\n",
        "categorical_missing.columns=data_final.select_dtypes(exclude='number').columns\n",
        "\n",
        "new_data=pd.concat([numerical_missing,categorical_missing],axis=1)"
      ]
    },
    {
      "cell_type": "code",
      "execution_count": 39,
      "metadata": {
        "colab": {
          "base_uri": "https://localhost:8080/",
          "height": 0
        },
        "id": "0dnv1UuV9hoB",
        "outputId": "1c962b65-628f-4ef7-ef18-bc7e2268d740"
      },
      "outputs": [
        {
          "data": {
            "text/html": [
              "<div>\n",
              "<style scoped>\n",
              "    .dataframe tbody tr th:only-of-type {\n",
              "        vertical-align: middle;\n",
              "    }\n",
              "\n",
              "    .dataframe tbody tr th {\n",
              "        vertical-align: top;\n",
              "    }\n",
              "\n",
              "    .dataframe thead th {\n",
              "        text-align: right;\n",
              "    }\n",
              "</style>\n",
              "<table border=\"1\" class=\"dataframe\">\n",
              "  <thead>\n",
              "    <tr style=\"text-align: right;\">\n",
              "      <th></th>\n",
              "      <th>age</th>\n",
              "      <th>TSH</th>\n",
              "      <th>T3</th>\n",
              "      <th>TT4</th>\n",
              "      <th>T4U</th>\n",
              "      <th>FTI</th>\n",
              "      <th>sex</th>\n",
              "      <th>on_thyroxine</th>\n",
              "      <th>query_on_thyroxine</th>\n",
              "      <th>on_antithyroid_medication</th>\n",
              "      <th>...</th>\n",
              "      <th>tumor</th>\n",
              "      <th>hypopituitary</th>\n",
              "      <th>psych</th>\n",
              "      <th>T3_measured</th>\n",
              "      <th>TT4_measured</th>\n",
              "      <th>T4U_measured</th>\n",
              "      <th>FTI_measured</th>\n",
              "      <th>TBG_measured</th>\n",
              "      <th>referral_source</th>\n",
              "      <th>classes</th>\n",
              "    </tr>\n",
              "  </thead>\n",
              "  <tbody>\n",
              "    <tr>\n",
              "      <th>0</th>\n",
              "      <td>41.0</td>\n",
              "      <td>1.30</td>\n",
              "      <td>2.5</td>\n",
              "      <td>125.0</td>\n",
              "      <td>1.14</td>\n",
              "      <td>109.0</td>\n",
              "      <td>F</td>\n",
              "      <td>f</td>\n",
              "      <td>f</td>\n",
              "      <td>f</td>\n",
              "      <td>...</td>\n",
              "      <td>f</td>\n",
              "      <td>f</td>\n",
              "      <td>f</td>\n",
              "      <td>t</td>\n",
              "      <td>t</td>\n",
              "      <td>t</td>\n",
              "      <td>t</td>\n",
              "      <td>f</td>\n",
              "      <td>SVHC</td>\n",
              "      <td>negative</td>\n",
              "    </tr>\n",
              "    <tr>\n",
              "      <th>1</th>\n",
              "      <td>23.0</td>\n",
              "      <td>4.10</td>\n",
              "      <td>2.0</td>\n",
              "      <td>102.0</td>\n",
              "      <td>0.98</td>\n",
              "      <td>107.0</td>\n",
              "      <td>F</td>\n",
              "      <td>f</td>\n",
              "      <td>f</td>\n",
              "      <td>f</td>\n",
              "      <td>...</td>\n",
              "      <td>f</td>\n",
              "      <td>f</td>\n",
              "      <td>f</td>\n",
              "      <td>t</td>\n",
              "      <td>t</td>\n",
              "      <td>f</td>\n",
              "      <td>f</td>\n",
              "      <td>f</td>\n",
              "      <td>other</td>\n",
              "      <td>negative</td>\n",
              "    </tr>\n",
              "    <tr>\n",
              "      <th>2</th>\n",
              "      <td>46.0</td>\n",
              "      <td>0.98</td>\n",
              "      <td>2.0</td>\n",
              "      <td>109.0</td>\n",
              "      <td>0.91</td>\n",
              "      <td>120.0</td>\n",
              "      <td>M</td>\n",
              "      <td>f</td>\n",
              "      <td>f</td>\n",
              "      <td>f</td>\n",
              "      <td>...</td>\n",
              "      <td>f</td>\n",
              "      <td>f</td>\n",
              "      <td>f</td>\n",
              "      <td>f</td>\n",
              "      <td>t</td>\n",
              "      <td>t</td>\n",
              "      <td>t</td>\n",
              "      <td>f</td>\n",
              "      <td>other</td>\n",
              "      <td>negative</td>\n",
              "    </tr>\n",
              "    <tr>\n",
              "      <th>3</th>\n",
              "      <td>70.0</td>\n",
              "      <td>0.16</td>\n",
              "      <td>1.9</td>\n",
              "      <td>175.0</td>\n",
              "      <td>0.98</td>\n",
              "      <td>107.0</td>\n",
              "      <td>F</td>\n",
              "      <td>t</td>\n",
              "      <td>f</td>\n",
              "      <td>f</td>\n",
              "      <td>...</td>\n",
              "      <td>f</td>\n",
              "      <td>f</td>\n",
              "      <td>f</td>\n",
              "      <td>t</td>\n",
              "      <td>t</td>\n",
              "      <td>f</td>\n",
              "      <td>f</td>\n",
              "      <td>f</td>\n",
              "      <td>other</td>\n",
              "      <td>negative</td>\n",
              "    </tr>\n",
              "    <tr>\n",
              "      <th>4</th>\n",
              "      <td>70.0</td>\n",
              "      <td>0.72</td>\n",
              "      <td>1.2</td>\n",
              "      <td>61.0</td>\n",
              "      <td>0.87</td>\n",
              "      <td>70.0</td>\n",
              "      <td>F</td>\n",
              "      <td>f</td>\n",
              "      <td>f</td>\n",
              "      <td>f</td>\n",
              "      <td>...</td>\n",
              "      <td>f</td>\n",
              "      <td>f</td>\n",
              "      <td>f</td>\n",
              "      <td>t</td>\n",
              "      <td>t</td>\n",
              "      <td>t</td>\n",
              "      <td>t</td>\n",
              "      <td>f</td>\n",
              "      <td>SVI</td>\n",
              "      <td>negative</td>\n",
              "    </tr>\n",
              "  </tbody>\n",
              "</table>\n",
              "<p>5 rows × 28 columns</p>\n",
              "</div>"
            ],
            "text/plain": [
              "    age   TSH   T3    TT4   T4U    FTI sex on_thyroxine query_on_thyroxine  \\\n",
              "0  41.0  1.30  2.5  125.0  1.14  109.0   F            f                  f   \n",
              "1  23.0  4.10  2.0  102.0  0.98  107.0   F            f                  f   \n",
              "2  46.0  0.98  2.0  109.0  0.91  120.0   M            f                  f   \n",
              "3  70.0  0.16  1.9  175.0  0.98  107.0   F            t                  f   \n",
              "4  70.0  0.72  1.2   61.0  0.87   70.0   F            f                  f   \n",
              "\n",
              "  on_antithyroid_medication  ... tumor hypopituitary psych T3_measured  \\\n",
              "0                         f  ...     f             f     f           t   \n",
              "1                         f  ...     f             f     f           t   \n",
              "2                         f  ...     f             f     f           f   \n",
              "3                         f  ...     f             f     f           t   \n",
              "4                         f  ...     f             f     f           t   \n",
              "\n",
              "  TT4_measured T4U_measured FTI_measured TBG_measured referral_source  \\\n",
              "0            t            t            t            f            SVHC   \n",
              "1            t            f            f            f           other   \n",
              "2            t            t            t            f           other   \n",
              "3            t            f            f            f           other   \n",
              "4            t            t            t            f             SVI   \n",
              "\n",
              "    classes  \n",
              "0  negative  \n",
              "1  negative  \n",
              "2  negative  \n",
              "3  negative  \n",
              "4  negative  \n",
              "\n",
              "[5 rows x 28 columns]"
            ]
          },
          "execution_count": 39,
          "metadata": {},
          "output_type": "execute_result"
        }
      ],
      "source": [
        "new_data.head()"
      ]
    },
    {
      "cell_type": "code",
      "execution_count": 40,
      "metadata": {
        "colab": {
          "base_uri": "https://localhost:8080/"
        },
        "id": "BrFLT4zu9hoB",
        "outputId": "5bfca0ee-4b1e-4dfa-8f67-4ee1ef1c19c0"
      },
      "outputs": [
        {
          "data": {
            "text/plain": [
              "0"
            ]
          },
          "execution_count": 40,
          "metadata": {},
          "output_type": "execute_result"
        }
      ],
      "source": [
        "new_data.isnull().sum().sum()"
      ]
    },
    {
      "cell_type": "markdown",
      "metadata": {
        "id": "LH13zZd59hoC"
      },
      "source": [
        "### Outliers detection and removal\n",
        "\n",
        "Since all the numerical features not following Normal distribution, will use percentile method to detect the outliers and remove them"
      ]
    },
    {
      "cell_type": "code",
      "execution_count": 41,
      "metadata": {
        "colab": {
          "base_uri": "https://localhost:8080/"
        },
        "id": "lzsgv0l0HXjB",
        "outputId": "81010475-2644-48ea-875c-cb73d989770a"
      },
      "outputs": [
        {
          "data": {
            "text/plain": [
              "(2800, 28)"
            ]
          },
          "execution_count": 41,
          "metadata": {},
          "output_type": "execute_result"
        }
      ],
      "source": [
        "new_data.shape"
      ]
    },
    {
      "cell_type": "code",
      "execution_count": 42,
      "metadata": {
        "id": "epo7nuAL9hoC"
      },
      "outputs": [],
      "source": [
        "new_data=new_data.drop(new_data.age.index[1364])"
      ]
    },
    {
      "cell_type": "code",
      "execution_count": 43,
      "metadata": {
        "colab": {
          "base_uri": "https://localhost:8080/"
        },
        "id": "kYy4OTwsJiGm",
        "outputId": "10007162-b331-4daf-dc6e-fdce207af952"
      },
      "outputs": [
        {
          "data": {
            "text/plain": [
              "(2799, 28)"
            ]
          },
          "execution_count": 43,
          "metadata": {},
          "output_type": "execute_result"
        }
      ],
      "source": [
        "new_data.shape\n"
      ]
    },
    {
      "cell_type": "code",
      "execution_count": 44,
      "metadata": {
        "id": "uvTOqKRM9hoC"
      },
      "outputs": [],
      "source": [
        "def outliers_removal(numerical_missing):\n",
        "    for column in numerical_missing:\n",
        "        sort=np.sort(numerical_missing[column])\n",
        "        lower_limit,upper_limit=np.percentile(sort,[0,95])\n",
        "        detected_outliers=numerical_missing.iloc[np.where((numerical_missing[column]>upper_limit) | (numerical_missing[column]<lower_limit))]\n",
        "        #outliers_free_data=numerical_missing.iloc[np.where((numerical_missing[column]<=upper_limit) | (numerical_missing[column]>=lower_limit))]\n",
        "        #print(f\"upper limit for {column}: {upper_limit} and lower limit for {column}: {lower_limit}\")\n",
        "        return detected_outliers\n"
      ]
    },
    {
      "cell_type": "code",
      "execution_count": 45,
      "metadata": {
        "colab": {
          "base_uri": "https://localhost:8080/",
          "height": 0
        },
        "id": "tMlU66Wf9hoC",
        "outputId": "73301ec4-0e71-4798-c6c7-a7db6c030d30"
      },
      "outputs": [
        {
          "data": {
            "text/html": [
              "<div>\n",
              "<style scoped>\n",
              "    .dataframe tbody tr th:only-of-type {\n",
              "        vertical-align: middle;\n",
              "    }\n",
              "\n",
              "    .dataframe tbody tr th {\n",
              "        vertical-align: top;\n",
              "    }\n",
              "\n",
              "    .dataframe thead th {\n",
              "        text-align: right;\n",
              "    }\n",
              "</style>\n",
              "<table border=\"1\" class=\"dataframe\">\n",
              "  <thead>\n",
              "    <tr style=\"text-align: right;\">\n",
              "      <th></th>\n",
              "      <th>age</th>\n",
              "      <th>TSH</th>\n",
              "      <th>T3</th>\n",
              "      <th>TT4</th>\n",
              "      <th>T4U</th>\n",
              "      <th>FTI</th>\n",
              "      <th>sex</th>\n",
              "      <th>on_thyroxine</th>\n",
              "      <th>query_on_thyroxine</th>\n",
              "      <th>on_antithyroid_medication</th>\n",
              "      <th>...</th>\n",
              "      <th>tumor</th>\n",
              "      <th>hypopituitary</th>\n",
              "      <th>psych</th>\n",
              "      <th>T3_measured</th>\n",
              "      <th>TT4_measured</th>\n",
              "      <th>T4U_measured</th>\n",
              "      <th>FTI_measured</th>\n",
              "      <th>TBG_measured</th>\n",
              "      <th>referral_source</th>\n",
              "      <th>classes</th>\n",
              "    </tr>\n",
              "  </thead>\n",
              "  <tbody>\n",
              "    <tr>\n",
              "      <th>7</th>\n",
              "      <td>80.0</td>\n",
              "      <td>2.20</td>\n",
              "      <td>0.6</td>\n",
              "      <td>80.0</td>\n",
              "      <td>0.70</td>\n",
              "      <td>115.0</td>\n",
              "      <td>F</td>\n",
              "      <td>f</td>\n",
              "      <td>f</td>\n",
              "      <td>f</td>\n",
              "      <td>...</td>\n",
              "      <td>f</td>\n",
              "      <td>f</td>\n",
              "      <td>f</td>\n",
              "      <td>t</td>\n",
              "      <td>t</td>\n",
              "      <td>t</td>\n",
              "      <td>t</td>\n",
              "      <td>f</td>\n",
              "      <td>SVI</td>\n",
              "      <td>negative</td>\n",
              "    </tr>\n",
              "    <tr>\n",
              "      <th>10</th>\n",
              "      <td>84.0</td>\n",
              "      <td>1.10</td>\n",
              "      <td>2.2</td>\n",
              "      <td>115.0</td>\n",
              "      <td>0.95</td>\n",
              "      <td>121.0</td>\n",
              "      <td>F</td>\n",
              "      <td>f</td>\n",
              "      <td>f</td>\n",
              "      <td>f</td>\n",
              "      <td>...</td>\n",
              "      <td>t</td>\n",
              "      <td>f</td>\n",
              "      <td>f</td>\n",
              "      <td>t</td>\n",
              "      <td>t</td>\n",
              "      <td>t</td>\n",
              "      <td>t</td>\n",
              "      <td>f</td>\n",
              "      <td>SVI</td>\n",
              "      <td>negative</td>\n",
              "    </tr>\n",
              "    <tr>\n",
              "      <th>18</th>\n",
              "      <td>80.0</td>\n",
              "      <td>6.00</td>\n",
              "      <td>1.6</td>\n",
              "      <td>99.0</td>\n",
              "      <td>0.95</td>\n",
              "      <td>104.0</td>\n",
              "      <td>F</td>\n",
              "      <td>f</td>\n",
              "      <td>f</td>\n",
              "      <td>f</td>\n",
              "      <td>...</td>\n",
              "      <td>f</td>\n",
              "      <td>f</td>\n",
              "      <td>t</td>\n",
              "      <td>t</td>\n",
              "      <td>t</td>\n",
              "      <td>t</td>\n",
              "      <td>t</td>\n",
              "      <td>f</td>\n",
              "      <td>SVI</td>\n",
              "      <td>negative</td>\n",
              "    </tr>\n",
              "    <tr>\n",
              "      <th>22</th>\n",
              "      <td>81.0</td>\n",
              "      <td>1.90</td>\n",
              "      <td>0.3</td>\n",
              "      <td>102.0</td>\n",
              "      <td>0.96</td>\n",
              "      <td>106.0</td>\n",
              "      <td>M</td>\n",
              "      <td>f</td>\n",
              "      <td>f</td>\n",
              "      <td>f</td>\n",
              "      <td>...</td>\n",
              "      <td>f</td>\n",
              "      <td>f</td>\n",
              "      <td>f</td>\n",
              "      <td>t</td>\n",
              "      <td>t</td>\n",
              "      <td>t</td>\n",
              "      <td>t</td>\n",
              "      <td>f</td>\n",
              "      <td>SVI</td>\n",
              "      <td>negative</td>\n",
              "    </tr>\n",
              "    <tr>\n",
              "      <th>34</th>\n",
              "      <td>85.0</td>\n",
              "      <td>7.30</td>\n",
              "      <td>2.4</td>\n",
              "      <td>66.0</td>\n",
              "      <td>1.09</td>\n",
              "      <td>61.0</td>\n",
              "      <td>F</td>\n",
              "      <td>f</td>\n",
              "      <td>f</td>\n",
              "      <td>f</td>\n",
              "      <td>...</td>\n",
              "      <td>f</td>\n",
              "      <td>f</td>\n",
              "      <td>f</td>\n",
              "      <td>t</td>\n",
              "      <td>t</td>\n",
              "      <td>t</td>\n",
              "      <td>t</td>\n",
              "      <td>f</td>\n",
              "      <td>other</td>\n",
              "      <td>negative</td>\n",
              "    </tr>\n",
              "    <tr>\n",
              "      <th>...</th>\n",
              "      <td>...</td>\n",
              "      <td>...</td>\n",
              "      <td>...</td>\n",
              "      <td>...</td>\n",
              "      <td>...</td>\n",
              "      <td>...</td>\n",
              "      <td>...</td>\n",
              "      <td>...</td>\n",
              "      <td>...</td>\n",
              "      <td>...</td>\n",
              "      <td>...</td>\n",
              "      <td>...</td>\n",
              "      <td>...</td>\n",
              "      <td>...</td>\n",
              "      <td>...</td>\n",
              "      <td>...</td>\n",
              "      <td>...</td>\n",
              "      <td>...</td>\n",
              "      <td>...</td>\n",
              "      <td>...</td>\n",
              "      <td>...</td>\n",
              "    </tr>\n",
              "    <tr>\n",
              "      <th>2773</th>\n",
              "      <td>84.0</td>\n",
              "      <td>3.60</td>\n",
              "      <td>0.6</td>\n",
              "      <td>82.0</td>\n",
              "      <td>0.74</td>\n",
              "      <td>110.0</td>\n",
              "      <td>M</td>\n",
              "      <td>f</td>\n",
              "      <td>f</td>\n",
              "      <td>f</td>\n",
              "      <td>...</td>\n",
              "      <td>f</td>\n",
              "      <td>f</td>\n",
              "      <td>t</td>\n",
              "      <td>t</td>\n",
              "      <td>t</td>\n",
              "      <td>t</td>\n",
              "      <td>t</td>\n",
              "      <td>f</td>\n",
              "      <td>SVI</td>\n",
              "      <td>negative</td>\n",
              "    </tr>\n",
              "    <tr>\n",
              "      <th>2774</th>\n",
              "      <td>82.0</td>\n",
              "      <td>2.20</td>\n",
              "      <td>1.0</td>\n",
              "      <td>68.0</td>\n",
              "      <td>0.77</td>\n",
              "      <td>88.0</td>\n",
              "      <td>M</td>\n",
              "      <td>f</td>\n",
              "      <td>f</td>\n",
              "      <td>f</td>\n",
              "      <td>...</td>\n",
              "      <td>f</td>\n",
              "      <td>f</td>\n",
              "      <td>f</td>\n",
              "      <td>t</td>\n",
              "      <td>t</td>\n",
              "      <td>t</td>\n",
              "      <td>t</td>\n",
              "      <td>f</td>\n",
              "      <td>SVI</td>\n",
              "      <td>negative</td>\n",
              "    </tr>\n",
              "    <tr>\n",
              "      <th>2783</th>\n",
              "      <td>82.0</td>\n",
              "      <td>0.50</td>\n",
              "      <td>2.0</td>\n",
              "      <td>125.0</td>\n",
              "      <td>0.84</td>\n",
              "      <td>149.0</td>\n",
              "      <td>F</td>\n",
              "      <td>f</td>\n",
              "      <td>f</td>\n",
              "      <td>f</td>\n",
              "      <td>...</td>\n",
              "      <td>f</td>\n",
              "      <td>f</td>\n",
              "      <td>f</td>\n",
              "      <td>f</td>\n",
              "      <td>t</td>\n",
              "      <td>t</td>\n",
              "      <td>t</td>\n",
              "      <td>f</td>\n",
              "      <td>other</td>\n",
              "      <td>negative</td>\n",
              "    </tr>\n",
              "    <tr>\n",
              "      <th>2793</th>\n",
              "      <td>82.0</td>\n",
              "      <td>0.03</td>\n",
              "      <td>1.4</td>\n",
              "      <td>74.0</td>\n",
              "      <td>0.52</td>\n",
              "      <td>143.0</td>\n",
              "      <td>F</td>\n",
              "      <td>f</td>\n",
              "      <td>f</td>\n",
              "      <td>f</td>\n",
              "      <td>...</td>\n",
              "      <td>f</td>\n",
              "      <td>f</td>\n",
              "      <td>f</td>\n",
              "      <td>t</td>\n",
              "      <td>t</td>\n",
              "      <td>t</td>\n",
              "      <td>t</td>\n",
              "      <td>f</td>\n",
              "      <td>other</td>\n",
              "      <td>negative</td>\n",
              "    </tr>\n",
              "    <tr>\n",
              "      <th>2799</th>\n",
              "      <td>81.0</td>\n",
              "      <td>1.20</td>\n",
              "      <td>1.5</td>\n",
              "      <td>114.0</td>\n",
              "      <td>0.99</td>\n",
              "      <td>115.0</td>\n",
              "      <td>F</td>\n",
              "      <td>f</td>\n",
              "      <td>f</td>\n",
              "      <td>f</td>\n",
              "      <td>...</td>\n",
              "      <td>f</td>\n",
              "      <td>f</td>\n",
              "      <td>f</td>\n",
              "      <td>t</td>\n",
              "      <td>t</td>\n",
              "      <td>t</td>\n",
              "      <td>t</td>\n",
              "      <td>f</td>\n",
              "      <td>SVI</td>\n",
              "      <td>negative</td>\n",
              "    </tr>\n",
              "  </tbody>\n",
              "</table>\n",
              "<p>133 rows × 28 columns</p>\n",
              "</div>"
            ],
            "text/plain": [
              "       age   TSH   T3    TT4   T4U    FTI sex on_thyroxine query_on_thyroxine  \\\n",
              "7     80.0  2.20  0.6   80.0  0.70  115.0   F            f                  f   \n",
              "10    84.0  1.10  2.2  115.0  0.95  121.0   F            f                  f   \n",
              "18    80.0  6.00  1.6   99.0  0.95  104.0   F            f                  f   \n",
              "22    81.0  1.90  0.3  102.0  0.96  106.0   M            f                  f   \n",
              "34    85.0  7.30  2.4   66.0  1.09   61.0   F            f                  f   \n",
              "...    ...   ...  ...    ...   ...    ...  ..          ...                ...   \n",
              "2773  84.0  3.60  0.6   82.0  0.74  110.0   M            f                  f   \n",
              "2774  82.0  2.20  1.0   68.0  0.77   88.0   M            f                  f   \n",
              "2783  82.0  0.50  2.0  125.0  0.84  149.0   F            f                  f   \n",
              "2793  82.0  0.03  1.4   74.0  0.52  143.0   F            f                  f   \n",
              "2799  81.0  1.20  1.5  114.0  0.99  115.0   F            f                  f   \n",
              "\n",
              "     on_antithyroid_medication  ... tumor hypopituitary psych T3_measured  \\\n",
              "7                            f  ...     f             f     f           t   \n",
              "10                           f  ...     t             f     f           t   \n",
              "18                           f  ...     f             f     t           t   \n",
              "22                           f  ...     f             f     f           t   \n",
              "34                           f  ...     f             f     f           t   \n",
              "...                        ...  ...   ...           ...   ...         ...   \n",
              "2773                         f  ...     f             f     t           t   \n",
              "2774                         f  ...     f             f     f           t   \n",
              "2783                         f  ...     f             f     f           f   \n",
              "2793                         f  ...     f             f     f           t   \n",
              "2799                         f  ...     f             f     f           t   \n",
              "\n",
              "     TT4_measured T4U_measured FTI_measured TBG_measured referral_source  \\\n",
              "7               t            t            t            f             SVI   \n",
              "10              t            t            t            f             SVI   \n",
              "18              t            t            t            f             SVI   \n",
              "22              t            t            t            f             SVI   \n",
              "34              t            t            t            f           other   \n",
              "...           ...          ...          ...          ...             ...   \n",
              "2773            t            t            t            f             SVI   \n",
              "2774            t            t            t            f             SVI   \n",
              "2783            t            t            t            f           other   \n",
              "2793            t            t            t            f           other   \n",
              "2799            t            t            t            f             SVI   \n",
              "\n",
              "       classes  \n",
              "7     negative  \n",
              "10    negative  \n",
              "18    negative  \n",
              "22    negative  \n",
              "34    negative  \n",
              "...        ...  \n",
              "2773  negative  \n",
              "2774  negative  \n",
              "2783  negative  \n",
              "2793  negative  \n",
              "2799  negative  \n",
              "\n",
              "[133 rows x 28 columns]"
            ]
          },
          "execution_count": 45,
          "metadata": {},
          "output_type": "execute_result"
        }
      ],
      "source": [
        "outliers_data=outliers_removal(new_data)\n",
        "outliers_data"
      ]
    },
    {
      "cell_type": "code",
      "execution_count": 46,
      "metadata": {
        "colab": {
          "base_uri": "https://localhost:8080/"
        },
        "id": "s4ccfnatHNxz",
        "outputId": "c500b426-8beb-48df-dfa6-afbee6ad9629"
      },
      "outputs": [
        {
          "data": {
            "text/plain": [
              "(2799, 28)"
            ]
          },
          "execution_count": 46,
          "metadata": {},
          "output_type": "execute_result"
        }
      ],
      "source": [
        "new_data.shape"
      ]
    },
    {
      "cell_type": "code",
      "execution_count": 47,
      "metadata": {
        "colab": {
          "base_uri": "https://localhost:8080/",
          "height": 0
        },
        "id": "C8ZF-N0i9hoC",
        "outputId": "ffb98ee2-ef98-4189-f097-b9664fb4446d"
      },
      "outputs": [
        {
          "data": {
            "text/html": [
              "<div>\n",
              "<style scoped>\n",
              "    .dataframe tbody tr th:only-of-type {\n",
              "        vertical-align: middle;\n",
              "    }\n",
              "\n",
              "    .dataframe tbody tr th {\n",
              "        vertical-align: top;\n",
              "    }\n",
              "\n",
              "    .dataframe thead th {\n",
              "        text-align: right;\n",
              "    }\n",
              "</style>\n",
              "<table border=\"1\" class=\"dataframe\">\n",
              "  <thead>\n",
              "    <tr style=\"text-align: right;\">\n",
              "      <th></th>\n",
              "      <th>age</th>\n",
              "      <th>TSH</th>\n",
              "      <th>T3</th>\n",
              "      <th>TT4</th>\n",
              "      <th>T4U</th>\n",
              "      <th>FTI</th>\n",
              "      <th>sex</th>\n",
              "      <th>on_thyroxine</th>\n",
              "      <th>query_on_thyroxine</th>\n",
              "      <th>on_antithyroid_medication</th>\n",
              "      <th>...</th>\n",
              "      <th>tumor</th>\n",
              "      <th>hypopituitary</th>\n",
              "      <th>psych</th>\n",
              "      <th>T3_measured</th>\n",
              "      <th>TT4_measured</th>\n",
              "      <th>T4U_measured</th>\n",
              "      <th>FTI_measured</th>\n",
              "      <th>TBG_measured</th>\n",
              "      <th>referral_source</th>\n",
              "      <th>classes</th>\n",
              "    </tr>\n",
              "  </thead>\n",
              "  <tbody>\n",
              "    <tr>\n",
              "      <th>0</th>\n",
              "      <td>41.0</td>\n",
              "      <td>1.30</td>\n",
              "      <td>2.5</td>\n",
              "      <td>125.0</td>\n",
              "      <td>1.14</td>\n",
              "      <td>109.0</td>\n",
              "      <td>F</td>\n",
              "      <td>f</td>\n",
              "      <td>f</td>\n",
              "      <td>f</td>\n",
              "      <td>...</td>\n",
              "      <td>f</td>\n",
              "      <td>f</td>\n",
              "      <td>f</td>\n",
              "      <td>t</td>\n",
              "      <td>t</td>\n",
              "      <td>t</td>\n",
              "      <td>t</td>\n",
              "      <td>f</td>\n",
              "      <td>SVHC</td>\n",
              "      <td>negative</td>\n",
              "    </tr>\n",
              "    <tr>\n",
              "      <th>1</th>\n",
              "      <td>23.0</td>\n",
              "      <td>4.10</td>\n",
              "      <td>2.0</td>\n",
              "      <td>102.0</td>\n",
              "      <td>0.98</td>\n",
              "      <td>107.0</td>\n",
              "      <td>F</td>\n",
              "      <td>f</td>\n",
              "      <td>f</td>\n",
              "      <td>f</td>\n",
              "      <td>...</td>\n",
              "      <td>f</td>\n",
              "      <td>f</td>\n",
              "      <td>f</td>\n",
              "      <td>t</td>\n",
              "      <td>t</td>\n",
              "      <td>f</td>\n",
              "      <td>f</td>\n",
              "      <td>f</td>\n",
              "      <td>other</td>\n",
              "      <td>negative</td>\n",
              "    </tr>\n",
              "    <tr>\n",
              "      <th>2</th>\n",
              "      <td>46.0</td>\n",
              "      <td>0.98</td>\n",
              "      <td>2.0</td>\n",
              "      <td>109.0</td>\n",
              "      <td>0.91</td>\n",
              "      <td>120.0</td>\n",
              "      <td>M</td>\n",
              "      <td>f</td>\n",
              "      <td>f</td>\n",
              "      <td>f</td>\n",
              "      <td>...</td>\n",
              "      <td>f</td>\n",
              "      <td>f</td>\n",
              "      <td>f</td>\n",
              "      <td>f</td>\n",
              "      <td>t</td>\n",
              "      <td>t</td>\n",
              "      <td>t</td>\n",
              "      <td>f</td>\n",
              "      <td>other</td>\n",
              "      <td>negative</td>\n",
              "    </tr>\n",
              "    <tr>\n",
              "      <th>3</th>\n",
              "      <td>70.0</td>\n",
              "      <td>0.16</td>\n",
              "      <td>1.9</td>\n",
              "      <td>175.0</td>\n",
              "      <td>0.98</td>\n",
              "      <td>107.0</td>\n",
              "      <td>F</td>\n",
              "      <td>t</td>\n",
              "      <td>f</td>\n",
              "      <td>f</td>\n",
              "      <td>...</td>\n",
              "      <td>f</td>\n",
              "      <td>f</td>\n",
              "      <td>f</td>\n",
              "      <td>t</td>\n",
              "      <td>t</td>\n",
              "      <td>f</td>\n",
              "      <td>f</td>\n",
              "      <td>f</td>\n",
              "      <td>other</td>\n",
              "      <td>negative</td>\n",
              "    </tr>\n",
              "    <tr>\n",
              "      <th>4</th>\n",
              "      <td>70.0</td>\n",
              "      <td>0.72</td>\n",
              "      <td>1.2</td>\n",
              "      <td>61.0</td>\n",
              "      <td>0.87</td>\n",
              "      <td>70.0</td>\n",
              "      <td>F</td>\n",
              "      <td>f</td>\n",
              "      <td>f</td>\n",
              "      <td>f</td>\n",
              "      <td>...</td>\n",
              "      <td>f</td>\n",
              "      <td>f</td>\n",
              "      <td>f</td>\n",
              "      <td>t</td>\n",
              "      <td>t</td>\n",
              "      <td>t</td>\n",
              "      <td>t</td>\n",
              "      <td>f</td>\n",
              "      <td>SVI</td>\n",
              "      <td>negative</td>\n",
              "    </tr>\n",
              "    <tr>\n",
              "      <th>...</th>\n",
              "      <td>...</td>\n",
              "      <td>...</td>\n",
              "      <td>...</td>\n",
              "      <td>...</td>\n",
              "      <td>...</td>\n",
              "      <td>...</td>\n",
              "      <td>...</td>\n",
              "      <td>...</td>\n",
              "      <td>...</td>\n",
              "      <td>...</td>\n",
              "      <td>...</td>\n",
              "      <td>...</td>\n",
              "      <td>...</td>\n",
              "      <td>...</td>\n",
              "      <td>...</td>\n",
              "      <td>...</td>\n",
              "      <td>...</td>\n",
              "      <td>...</td>\n",
              "      <td>...</td>\n",
              "      <td>...</td>\n",
              "      <td>...</td>\n",
              "    </tr>\n",
              "    <tr>\n",
              "      <th>2794</th>\n",
              "      <td>25.0</td>\n",
              "      <td>1.90</td>\n",
              "      <td>1.7</td>\n",
              "      <td>167.0</td>\n",
              "      <td>1.21</td>\n",
              "      <td>137.0</td>\n",
              "      <td>F</td>\n",
              "      <td>f</td>\n",
              "      <td>f</td>\n",
              "      <td>f</td>\n",
              "      <td>...</td>\n",
              "      <td>f</td>\n",
              "      <td>f</td>\n",
              "      <td>f</td>\n",
              "      <td>t</td>\n",
              "      <td>t</td>\n",
              "      <td>t</td>\n",
              "      <td>t</td>\n",
              "      <td>f</td>\n",
              "      <td>other</td>\n",
              "      <td>negative</td>\n",
              "    </tr>\n",
              "    <tr>\n",
              "      <th>2795</th>\n",
              "      <td>70.0</td>\n",
              "      <td>2.70</td>\n",
              "      <td>2.0</td>\n",
              "      <td>155.0</td>\n",
              "      <td>1.05</td>\n",
              "      <td>148.0</td>\n",
              "      <td>M</td>\n",
              "      <td>f</td>\n",
              "      <td>f</td>\n",
              "      <td>f</td>\n",
              "      <td>...</td>\n",
              "      <td>f</td>\n",
              "      <td>f</td>\n",
              "      <td>f</td>\n",
              "      <td>f</td>\n",
              "      <td>t</td>\n",
              "      <td>t</td>\n",
              "      <td>t</td>\n",
              "      <td>f</td>\n",
              "      <td>SVI</td>\n",
              "      <td>negative</td>\n",
              "    </tr>\n",
              "    <tr>\n",
              "      <th>2796</th>\n",
              "      <td>73.0</td>\n",
              "      <td>1.40</td>\n",
              "      <td>0.7</td>\n",
              "      <td>63.0</td>\n",
              "      <td>0.88</td>\n",
              "      <td>72.0</td>\n",
              "      <td>M</td>\n",
              "      <td>f</td>\n",
              "      <td>t</td>\n",
              "      <td>f</td>\n",
              "      <td>...</td>\n",
              "      <td>f</td>\n",
              "      <td>f</td>\n",
              "      <td>f</td>\n",
              "      <td>t</td>\n",
              "      <td>t</td>\n",
              "      <td>t</td>\n",
              "      <td>t</td>\n",
              "      <td>f</td>\n",
              "      <td>other</td>\n",
              "      <td>negative</td>\n",
              "    </tr>\n",
              "    <tr>\n",
              "      <th>2797</th>\n",
              "      <td>75.0</td>\n",
              "      <td>1.40</td>\n",
              "      <td>2.0</td>\n",
              "      <td>147.0</td>\n",
              "      <td>0.80</td>\n",
              "      <td>183.0</td>\n",
              "      <td>M</td>\n",
              "      <td>f</td>\n",
              "      <td>f</td>\n",
              "      <td>f</td>\n",
              "      <td>...</td>\n",
              "      <td>f</td>\n",
              "      <td>f</td>\n",
              "      <td>f</td>\n",
              "      <td>f</td>\n",
              "      <td>t</td>\n",
              "      <td>t</td>\n",
              "      <td>t</td>\n",
              "      <td>f</td>\n",
              "      <td>other</td>\n",
              "      <td>negative</td>\n",
              "    </tr>\n",
              "    <tr>\n",
              "      <th>2798</th>\n",
              "      <td>60.0</td>\n",
              "      <td>1.40</td>\n",
              "      <td>2.0</td>\n",
              "      <td>100.0</td>\n",
              "      <td>0.83</td>\n",
              "      <td>121.0</td>\n",
              "      <td>F</td>\n",
              "      <td>f</td>\n",
              "      <td>f</td>\n",
              "      <td>f</td>\n",
              "      <td>...</td>\n",
              "      <td>f</td>\n",
              "      <td>f</td>\n",
              "      <td>f</td>\n",
              "      <td>f</td>\n",
              "      <td>t</td>\n",
              "      <td>t</td>\n",
              "      <td>t</td>\n",
              "      <td>f</td>\n",
              "      <td>other</td>\n",
              "      <td>negative</td>\n",
              "    </tr>\n",
              "  </tbody>\n",
              "</table>\n",
              "<p>2666 rows × 28 columns</p>\n",
              "</div>"
            ],
            "text/plain": [
              "       age   TSH   T3    TT4   T4U    FTI sex on_thyroxine query_on_thyroxine  \\\n",
              "0     41.0  1.30  2.5  125.0  1.14  109.0   F            f                  f   \n",
              "1     23.0  4.10  2.0  102.0  0.98  107.0   F            f                  f   \n",
              "2     46.0  0.98  2.0  109.0  0.91  120.0   M            f                  f   \n",
              "3     70.0  0.16  1.9  175.0  0.98  107.0   F            t                  f   \n",
              "4     70.0  0.72  1.2   61.0  0.87   70.0   F            f                  f   \n",
              "...    ...   ...  ...    ...   ...    ...  ..          ...                ...   \n",
              "2794  25.0  1.90  1.7  167.0  1.21  137.0   F            f                  f   \n",
              "2795  70.0  2.70  2.0  155.0  1.05  148.0   M            f                  f   \n",
              "2796  73.0  1.40  0.7   63.0  0.88   72.0   M            f                  t   \n",
              "2797  75.0  1.40  2.0  147.0  0.80  183.0   M            f                  f   \n",
              "2798  60.0  1.40  2.0  100.0  0.83  121.0   F            f                  f   \n",
              "\n",
              "     on_antithyroid_medication  ... tumor hypopituitary psych T3_measured  \\\n",
              "0                            f  ...     f             f     f           t   \n",
              "1                            f  ...     f             f     f           t   \n",
              "2                            f  ...     f             f     f           f   \n",
              "3                            f  ...     f             f     f           t   \n",
              "4                            f  ...     f             f     f           t   \n",
              "...                        ...  ...   ...           ...   ...         ...   \n",
              "2794                         f  ...     f             f     f           t   \n",
              "2795                         f  ...     f             f     f           f   \n",
              "2796                         f  ...     f             f     f           t   \n",
              "2797                         f  ...     f             f     f           f   \n",
              "2798                         f  ...     f             f     f           f   \n",
              "\n",
              "     TT4_measured T4U_measured FTI_measured TBG_measured referral_source  \\\n",
              "0               t            t            t            f            SVHC   \n",
              "1               t            f            f            f           other   \n",
              "2               t            t            t            f           other   \n",
              "3               t            f            f            f           other   \n",
              "4               t            t            t            f             SVI   \n",
              "...           ...          ...          ...          ...             ...   \n",
              "2794            t            t            t            f           other   \n",
              "2795            t            t            t            f             SVI   \n",
              "2796            t            t            t            f           other   \n",
              "2797            t            t            t            f           other   \n",
              "2798            t            t            t            f           other   \n",
              "\n",
              "       classes  \n",
              "0     negative  \n",
              "1     negative  \n",
              "2     negative  \n",
              "3     negative  \n",
              "4     negative  \n",
              "...        ...  \n",
              "2794  negative  \n",
              "2795  negative  \n",
              "2796  negative  \n",
              "2797  negative  \n",
              "2798  negative  \n",
              "\n",
              "[2666 rows x 28 columns]"
            ]
          },
          "execution_count": 47,
          "metadata": {},
          "output_type": "execute_result"
        }
      ],
      "source": [
        "new_df=new_data.drop(outliers_data.index)\n",
        "new_df"
      ]
    },
    {
      "cell_type": "code",
      "execution_count": 48,
      "metadata": {
        "colab": {
          "base_uri": "https://localhost:8080/"
        },
        "id": "CRyhFu6V9hoD",
        "outputId": "8ba1aea8-da28-41f6-ef6e-7b2a4113034e"
      },
      "outputs": [
        {
          "data": {
            "text/plain": [
              "(2666, 28)"
            ]
          },
          "execution_count": 48,
          "metadata": {},
          "output_type": "execute_result"
        }
      ],
      "source": [
        "new_df.shape"
      ]
    },
    {
      "cell_type": "code",
      "execution_count": 49,
      "metadata": {
        "colab": {
          "base_uri": "https://localhost:8080/"
        },
        "id": "J0OAI-Ww9hoD",
        "outputId": "1206367e-c08d-4010-f6e7-d95969520fb5"
      },
      "outputs": [
        {
          "data": {
            "text/plain": [
              "array(['SVHC', 'other', 'SVI', 'STMW', 'SVHD'], dtype=object)"
            ]
          },
          "execution_count": 49,
          "metadata": {},
          "output_type": "execute_result"
        }
      ],
      "source": [
        "new_df['referral_source'].unique()"
      ]
    },
    {
      "cell_type": "code",
      "execution_count": 50,
      "metadata": {
        "colab": {
          "base_uri": "https://localhost:8080/"
        },
        "id": "IyoWlx7b9hoD",
        "outputId": "520e108a-b17e-4c5d-955c-9ab82b75f229"
      },
      "outputs": [
        {
          "data": {
            "text/plain": [
              "Index(['age', 'TSH', 'T3', 'TT4', 'T4U', 'FTI', 'sex', 'on_thyroxine',\n",
              "       'query_on_thyroxine', 'on_antithyroid_medication', 'sick', 'pregnant',\n",
              "       'thyroid_surgery', 'I131_treatment', 'query_hypothyroid',\n",
              "       'query_hyperthyroid', 'lithium', 'goitre', 'tumor', 'hypopituitary',\n",
              "       'psych', 'T3_measured', 'TT4_measured', 'T4U_measured', 'FTI_measured',\n",
              "       'TBG_measured', 'referral_source', 'classes'],\n",
              "      dtype='object')"
            ]
          },
          "execution_count": 50,
          "metadata": {},
          "output_type": "execute_result"
        }
      ],
      "source": [
        "new_df.columns"
      ]
    },
    {
      "cell_type": "code",
      "execution_count": 51,
      "metadata": {
        "id": "A4c8Mjrs9hoD"
      },
      "outputs": [],
      "source": [
        "new_df.to_csv('Preprocessed_thyroid_data.csv',index=False)"
      ]
    },
    {
      "cell_type": "code",
      "execution_count": 52,
      "metadata": {
        "colab": {
          "base_uri": "https://localhost:8080/"
        },
        "id": "DVl8Yt-bG8bM",
        "outputId": "2f1b9aec-8cb1-4c87-a005-df5b3a609e24"
      },
      "outputs": [
        {
          "data": {
            "text/plain": [
              "(2666, 28)"
            ]
          },
          "execution_count": 52,
          "metadata": {},
          "output_type": "execute_result"
        }
      ],
      "source": [
        "new_df.shape"
      ]
    },
    {
      "cell_type": "code",
      "execution_count": 53,
      "metadata": {
        "id": "A61WktgU9hoD"
      },
      "outputs": [],
      "source": [
        "X = new_df.iloc[: , 0:-1]\n",
        "Y = new_df.iloc[: , -1] "
      ]
    },
    {
      "cell_type": "markdown",
      "metadata": {
        "id": "YxMVOFaE9hoD"
      },
      "source": [
        "# Splitting the dataset into the Training set and Test set"
      ]
    },
    {
      "cell_type": "code",
      "execution_count": 54,
      "metadata": {
        "colab": {
          "base_uri": "https://localhost:8080/"
        },
        "id": "Dkm5xN4b9hoE",
        "outputId": "d575ad64-17aa-42b2-c20e-57a011f3cb36"
      },
      "outputs": [
        {
          "data": {
            "text/plain": [
              "((2132, 27), (534, 27), (2132,), (534,))"
            ]
          },
          "execution_count": 54,
          "metadata": {},
          "output_type": "execute_result"
        }
      ],
      "source": [
        "from sklearn.model_selection import train_test_split\n",
        "X_train, X_test, Y_train, Y_test = train_test_split(X, Y, test_size = 0.2, random_state=1)\n",
        "X_train.shape,X_test.shape,Y_train.shape,Y_test.shape"
      ]
    },
    {
      "cell_type": "code",
      "execution_count": null,
      "metadata": {
        "id": "AT5Ey30d9hoE"
      },
      "outputs": [],
      "source": []
    },
    {
      "cell_type": "markdown",
      "metadata": {
        "id": "jP7m37dQ9hoE"
      },
      "source": [
        "# Encoding categorical data\n",
        "\n",
        "\n"
      ]
    },
    {
      "cell_type": "markdown",
      "metadata": {
        "id": "5z-XR6He9hoE"
      },
      "source": [
        "### Encoding the Independent Variable"
      ]
    },
    {
      "cell_type": "code",
      "execution_count": 55,
      "metadata": {
        "id": "vXrl1mf_9hoE"
      },
      "outputs": [],
      "source": [
        "from sklearn.preprocessing import OrdinalEncoder"
      ]
    },
    {
      "cell_type": "code",
      "execution_count": 56,
      "metadata": {
        "id": "uS8vHIVh9hoE"
      },
      "outputs": [],
      "source": [
        "ordinal_encoder = OrdinalEncoder()\n",
        "X_train_cat_encoded = pd.DataFrame(ordinal_encoder.fit_transform(X_train.select_dtypes(exclude='number')))\n",
        "X_train_cat_encoded.columns = X_train.select_dtypes(exclude='number').columns"
      ]
    },
    {
      "cell_type": "code",
      "execution_count": 57,
      "metadata": {
        "id": "5xOW0jku9hoE"
      },
      "outputs": [],
      "source": [
        "X_test_cat_encoded = pd.DataFrame(ordinal_encoder.transform(X_test.select_dtypes(exclude='number')))\n",
        "X_test_cat_encoded.columns = X_test.select_dtypes(exclude='number').columns"
      ]
    },
    {
      "cell_type": "markdown",
      "metadata": {
        "id": "eMygZURR9hoE"
      },
      "source": [
        "### Encoding the Dependent Variable"
      ]
    },
    {
      "cell_type": "code",
      "execution_count": 58,
      "metadata": {
        "id": "HxZww-Bk9hoE"
      },
      "outputs": [],
      "source": [
        "from sklearn.preprocessing import LabelEncoder"
      ]
    },
    {
      "cell_type": "code",
      "execution_count": 59,
      "metadata": {
        "colab": {
          "base_uri": "https://localhost:8080/"
        },
        "id": "TkNHjQ8b9hoF",
        "outputId": "6476aff3-aac3-4623-a14f-3cfb10e7335e"
      },
      "outputs": [
        {
          "name": "stdout",
          "output_type": "stream",
          "text": [
            "3    2067\n",
            "2      52\n",
            "1       7\n",
            "0       6\n",
            "dtype: int64\n",
            "negative        2067\n",
            "hyperthyroid      52\n",
            "goitre             7\n",
            "T3 toxic           6\n",
            "Name: classes, dtype: int64\n"
          ]
        }
      ],
      "source": [
        "label_encoder = LabelEncoder()\n",
        "Y_train_cat_encoded= pd.DataFrame(label_encoder.fit_transform(Y_train))\n",
        "print(Y_train_cat_encoded.value_counts())\n",
        "print(Y_train.value_counts())"
      ]
    },
    {
      "cell_type": "code",
      "execution_count": 60,
      "metadata": {
        "id": "V0V-G79z9hoF"
      },
      "outputs": [],
      "source": [
        "Y_test_cat_encoded = pd.DataFrame(label_encoder.transform(Y_test))"
      ]
    },
    {
      "cell_type": "code",
      "execution_count": 61,
      "metadata": {
        "colab": {
          "base_uri": "https://localhost:8080/"
        },
        "id": "LDbASJfLG3H7",
        "outputId": "ef06cffc-3f6e-49b4-9d04-3bb631db4e14"
      },
      "outputs": [
        {
          "data": {
            "text/plain": [
              "(534, 27)"
            ]
          },
          "execution_count": 61,
          "metadata": {},
          "output_type": "execute_result"
        }
      ],
      "source": [
        "X_test.shape"
      ]
    },
    {
      "cell_type": "markdown",
      "metadata": {
        "id": "0NzpRdh59hoF"
      },
      "source": [
        "## Standardization"
      ]
    },
    {
      "cell_type": "code",
      "execution_count": 62,
      "metadata": {
        "id": "7nkILux89hoF"
      },
      "outputs": [],
      "source": [
        "from sklearn.preprocessing import StandardScaler\n",
        "sc = StandardScaler()\n",
        "\n",
        "X_train_sc=pd.DataFrame(sc.fit_transform(X_train.select_dtypes(exclude='O')))\n",
        "X_test_sc=pd.DataFrame(sc.transform(X_test.select_dtypes(exclude='O')))\n",
        "\n",
        "X_train_sc.columns=X_train.select_dtypes(exclude='O').columns\n",
        "X_test_sc.columns=X_test.select_dtypes(exclude='O').columns\n"
      ]
    },
    {
      "cell_type": "code",
      "execution_count": 63,
      "metadata": {
        "id": "b7ql9MFU9hoF"
      },
      "outputs": [],
      "source": [
        "X_train_final=pd.concat([X_train_sc,X_train_cat_encoded],axis=1)\n",
        "\n",
        "X_test_final=pd.concat([X_test_sc,X_test_cat_encoded],axis=1)"
      ]
    },
    {
      "cell_type": "code",
      "execution_count": 64,
      "metadata": {
        "colab": {
          "base_uri": "https://localhost:8080/",
          "height": 0
        },
        "id": "rwCKj-6h9hoF",
        "outputId": "5861de1e-2e21-430c-8ee6-d3f650d08643"
      },
      "outputs": [
        {
          "data": {
            "text/html": [
              "<div>\n",
              "<style scoped>\n",
              "    .dataframe tbody tr th:only-of-type {\n",
              "        vertical-align: middle;\n",
              "    }\n",
              "\n",
              "    .dataframe tbody tr th {\n",
              "        vertical-align: top;\n",
              "    }\n",
              "\n",
              "    .dataframe thead th {\n",
              "        text-align: right;\n",
              "    }\n",
              "</style>\n",
              "<table border=\"1\" class=\"dataframe\">\n",
              "  <thead>\n",
              "    <tr style=\"text-align: right;\">\n",
              "      <th></th>\n",
              "      <th>age</th>\n",
              "      <th>TSH</th>\n",
              "      <th>T3</th>\n",
              "      <th>TT4</th>\n",
              "      <th>T4U</th>\n",
              "      <th>FTI</th>\n",
              "      <th>sex</th>\n",
              "      <th>on_thyroxine</th>\n",
              "      <th>query_on_thyroxine</th>\n",
              "      <th>on_antithyroid_medication</th>\n",
              "      <th>...</th>\n",
              "      <th>goitre</th>\n",
              "      <th>tumor</th>\n",
              "      <th>hypopituitary</th>\n",
              "      <th>psych</th>\n",
              "      <th>T3_measured</th>\n",
              "      <th>TT4_measured</th>\n",
              "      <th>T4U_measured</th>\n",
              "      <th>FTI_measured</th>\n",
              "      <th>TBG_measured</th>\n",
              "      <th>referral_source</th>\n",
              "    </tr>\n",
              "  </thead>\n",
              "  <tbody>\n",
              "    <tr>\n",
              "      <th>0</th>\n",
              "      <td>1.221624</td>\n",
              "      <td>0.069667</td>\n",
              "      <td>-0.861402</td>\n",
              "      <td>-0.066156</td>\n",
              "      <td>0.396527</td>\n",
              "      <td>-0.329429</td>\n",
              "      <td>0.0</td>\n",
              "      <td>0.0</td>\n",
              "      <td>0.0</td>\n",
              "      <td>0.0</td>\n",
              "      <td>...</td>\n",
              "      <td>0.0</td>\n",
              "      <td>0.0</td>\n",
              "      <td>0.0</td>\n",
              "      <td>0.0</td>\n",
              "      <td>1.0</td>\n",
              "      <td>1.0</td>\n",
              "      <td>1.0</td>\n",
              "      <td>1.0</td>\n",
              "      <td>0.0</td>\n",
              "      <td>3.0</td>\n",
              "    </tr>\n",
              "    <tr>\n",
              "      <th>1</th>\n",
              "      <td>-1.055282</td>\n",
              "      <td>-0.126710</td>\n",
              "      <td>0.331007</td>\n",
              "      <td>-0.584741</td>\n",
              "      <td>1.239451</td>\n",
              "      <td>-1.207478</td>\n",
              "      <td>0.0</td>\n",
              "      <td>0.0</td>\n",
              "      <td>0.0</td>\n",
              "      <td>0.0</td>\n",
              "      <td>...</td>\n",
              "      <td>0.0</td>\n",
              "      <td>0.0</td>\n",
              "      <td>0.0</td>\n",
              "      <td>0.0</td>\n",
              "      <td>1.0</td>\n",
              "      <td>1.0</td>\n",
              "      <td>1.0</td>\n",
              "      <td>1.0</td>\n",
              "      <td>0.0</td>\n",
              "      <td>4.0</td>\n",
              "    </tr>\n",
              "    <tr>\n",
              "      <th>2</th>\n",
              "      <td>0.333076</td>\n",
              "      <td>-0.170661</td>\n",
              "      <td>-0.463932</td>\n",
              "      <td>0.135517</td>\n",
              "      <td>-0.614981</td>\n",
              "      <td>0.548620</td>\n",
              "      <td>1.0</td>\n",
              "      <td>0.0</td>\n",
              "      <td>0.0</td>\n",
              "      <td>0.0</td>\n",
              "      <td>...</td>\n",
              "      <td>0.0</td>\n",
              "      <td>0.0</td>\n",
              "      <td>0.0</td>\n",
              "      <td>0.0</td>\n",
              "      <td>1.0</td>\n",
              "      <td>1.0</td>\n",
              "      <td>1.0</td>\n",
              "      <td>1.0</td>\n",
              "      <td>0.0</td>\n",
              "      <td>3.0</td>\n",
              "    </tr>\n",
              "    <tr>\n",
              "      <th>3</th>\n",
              "      <td>-0.166733</td>\n",
              "      <td>-0.194507</td>\n",
              "      <td>2.980805</td>\n",
              "      <td>2.296290</td>\n",
              "      <td>0.396527</td>\n",
              "      <td>2.053848</td>\n",
              "      <td>0.0</td>\n",
              "      <td>0.0</td>\n",
              "      <td>0.0</td>\n",
              "      <td>0.0</td>\n",
              "      <td>...</td>\n",
              "      <td>0.0</td>\n",
              "      <td>0.0</td>\n",
              "      <td>0.0</td>\n",
              "      <td>0.0</td>\n",
              "      <td>1.0</td>\n",
              "      <td>1.0</td>\n",
              "      <td>1.0</td>\n",
              "      <td>1.0</td>\n",
              "      <td>0.0</td>\n",
              "      <td>4.0</td>\n",
              "    </tr>\n",
              "    <tr>\n",
              "      <th>4</th>\n",
              "      <td>0.499678</td>\n",
              "      <td>-0.131385</td>\n",
              "      <td>-0.331442</td>\n",
              "      <td>1.086257</td>\n",
              "      <td>0.621307</td>\n",
              "      <td>0.674056</td>\n",
              "      <td>1.0</td>\n",
              "      <td>0.0</td>\n",
              "      <td>0.0</td>\n",
              "      <td>0.0</td>\n",
              "      <td>...</td>\n",
              "      <td>0.0</td>\n",
              "      <td>0.0</td>\n",
              "      <td>0.0</td>\n",
              "      <td>0.0</td>\n",
              "      <td>1.0</td>\n",
              "      <td>1.0</td>\n",
              "      <td>1.0</td>\n",
              "      <td>1.0</td>\n",
              "      <td>0.0</td>\n",
              "      <td>3.0</td>\n",
              "    </tr>\n",
              "    <tr>\n",
              "      <th>...</th>\n",
              "      <td>...</td>\n",
              "      <td>...</td>\n",
              "      <td>...</td>\n",
              "      <td>...</td>\n",
              "      <td>...</td>\n",
              "      <td>...</td>\n",
              "      <td>...</td>\n",
              "      <td>...</td>\n",
              "      <td>...</td>\n",
              "      <td>...</td>\n",
              "      <td>...</td>\n",
              "      <td>...</td>\n",
              "      <td>...</td>\n",
              "      <td>...</td>\n",
              "      <td>...</td>\n",
              "      <td>...</td>\n",
              "      <td>...</td>\n",
              "      <td>...</td>\n",
              "      <td>...</td>\n",
              "      <td>...</td>\n",
              "      <td>...</td>\n",
              "    </tr>\n",
              "    <tr>\n",
              "      <th>2127</th>\n",
              "      <td>0.277541</td>\n",
              "      <td>-0.201286</td>\n",
              "      <td>-0.596422</td>\n",
              "      <td>0.164327</td>\n",
              "      <td>-0.895956</td>\n",
              "      <td>0.862209</td>\n",
              "      <td>0.0</td>\n",
              "      <td>1.0</td>\n",
              "      <td>1.0</td>\n",
              "      <td>0.0</td>\n",
              "      <td>...</td>\n",
              "      <td>0.0</td>\n",
              "      <td>0.0</td>\n",
              "      <td>0.0</td>\n",
              "      <td>0.0</td>\n",
              "      <td>1.0</td>\n",
              "      <td>1.0</td>\n",
              "      <td>1.0</td>\n",
              "      <td>1.0</td>\n",
              "      <td>0.0</td>\n",
              "      <td>2.0</td>\n",
              "    </tr>\n",
              "    <tr>\n",
              "      <th>2128</th>\n",
              "      <td>0.832884</td>\n",
              "      <td>-0.200117</td>\n",
              "      <td>-0.198952</td>\n",
              "      <td>1.201498</td>\n",
              "      <td>-0.614981</td>\n",
              "      <td>1.834335</td>\n",
              "      <td>0.0</td>\n",
              "      <td>1.0</td>\n",
              "      <td>0.0</td>\n",
              "      <td>0.0</td>\n",
              "      <td>...</td>\n",
              "      <td>0.0</td>\n",
              "      <td>0.0</td>\n",
              "      <td>0.0</td>\n",
              "      <td>0.0</td>\n",
              "      <td>1.0</td>\n",
              "      <td>1.0</td>\n",
              "      <td>1.0</td>\n",
              "      <td>1.0</td>\n",
              "      <td>0.0</td>\n",
              "      <td>4.0</td>\n",
              "    </tr>\n",
              "    <tr>\n",
              "      <th>2129</th>\n",
              "      <td>-0.555473</td>\n",
              "      <td>-0.150088</td>\n",
              "      <td>0.993457</td>\n",
              "      <td>-0.066156</td>\n",
              "      <td>0.508917</td>\n",
              "      <td>-0.360788</td>\n",
              "      <td>1.0</td>\n",
              "      <td>0.0</td>\n",
              "      <td>0.0</td>\n",
              "      <td>0.0</td>\n",
              "      <td>...</td>\n",
              "      <td>0.0</td>\n",
              "      <td>1.0</td>\n",
              "      <td>0.0</td>\n",
              "      <td>0.0</td>\n",
              "      <td>1.0</td>\n",
              "      <td>1.0</td>\n",
              "      <td>1.0</td>\n",
              "      <td>1.0</td>\n",
              "      <td>0.0</td>\n",
              "      <td>4.0</td>\n",
              "    </tr>\n",
              "    <tr>\n",
              "      <th>2130</th>\n",
              "      <td>-1.221885</td>\n",
              "      <td>-0.089305</td>\n",
              "      <td>0.066027</td>\n",
              "      <td>0.452430</td>\n",
              "      <td>-0.109227</td>\n",
              "      <td>-0.109916</td>\n",
              "      <td>0.0</td>\n",
              "      <td>0.0</td>\n",
              "      <td>0.0</td>\n",
              "      <td>1.0</td>\n",
              "      <td>...</td>\n",
              "      <td>0.0</td>\n",
              "      <td>0.0</td>\n",
              "      <td>0.0</td>\n",
              "      <td>0.0</td>\n",
              "      <td>1.0</td>\n",
              "      <td>1.0</td>\n",
              "      <td>0.0</td>\n",
              "      <td>0.0</td>\n",
              "      <td>0.0</td>\n",
              "      <td>4.0</td>\n",
              "    </tr>\n",
              "    <tr>\n",
              "      <th>2131</th>\n",
              "      <td>0.777350</td>\n",
              "      <td>-0.154764</td>\n",
              "      <td>-1.788831</td>\n",
              "      <td>-0.527121</td>\n",
              "      <td>-0.952150</td>\n",
              "      <td>-0.015840</td>\n",
              "      <td>1.0</td>\n",
              "      <td>0.0</td>\n",
              "      <td>0.0</td>\n",
              "      <td>0.0</td>\n",
              "      <td>...</td>\n",
              "      <td>0.0</td>\n",
              "      <td>0.0</td>\n",
              "      <td>0.0</td>\n",
              "      <td>0.0</td>\n",
              "      <td>1.0</td>\n",
              "      <td>1.0</td>\n",
              "      <td>1.0</td>\n",
              "      <td>1.0</td>\n",
              "      <td>0.0</td>\n",
              "      <td>3.0</td>\n",
              "    </tr>\n",
              "  </tbody>\n",
              "</table>\n",
              "<p>2132 rows × 27 columns</p>\n",
              "</div>"
            ],
            "text/plain": [
              "           age       TSH        T3       TT4       T4U       FTI  sex  \\\n",
              "0     1.221624  0.069667 -0.861402 -0.066156  0.396527 -0.329429  0.0   \n",
              "1    -1.055282 -0.126710  0.331007 -0.584741  1.239451 -1.207478  0.0   \n",
              "2     0.333076 -0.170661 -0.463932  0.135517 -0.614981  0.548620  1.0   \n",
              "3    -0.166733 -0.194507  2.980805  2.296290  0.396527  2.053848  0.0   \n",
              "4     0.499678 -0.131385 -0.331442  1.086257  0.621307  0.674056  1.0   \n",
              "...        ...       ...       ...       ...       ...       ...  ...   \n",
              "2127  0.277541 -0.201286 -0.596422  0.164327 -0.895956  0.862209  0.0   \n",
              "2128  0.832884 -0.200117 -0.198952  1.201498 -0.614981  1.834335  0.0   \n",
              "2129 -0.555473 -0.150088  0.993457 -0.066156  0.508917 -0.360788  1.0   \n",
              "2130 -1.221885 -0.089305  0.066027  0.452430 -0.109227 -0.109916  0.0   \n",
              "2131  0.777350 -0.154764 -1.788831 -0.527121 -0.952150 -0.015840  1.0   \n",
              "\n",
              "      on_thyroxine  query_on_thyroxine  on_antithyroid_medication  ...  \\\n",
              "0              0.0                 0.0                        0.0  ...   \n",
              "1              0.0                 0.0                        0.0  ...   \n",
              "2              0.0                 0.0                        0.0  ...   \n",
              "3              0.0                 0.0                        0.0  ...   \n",
              "4              0.0                 0.0                        0.0  ...   \n",
              "...            ...                 ...                        ...  ...   \n",
              "2127           1.0                 1.0                        0.0  ...   \n",
              "2128           1.0                 0.0                        0.0  ...   \n",
              "2129           0.0                 0.0                        0.0  ...   \n",
              "2130           0.0                 0.0                        1.0  ...   \n",
              "2131           0.0                 0.0                        0.0  ...   \n",
              "\n",
              "      goitre  tumor  hypopituitary  psych  T3_measured  TT4_measured  \\\n",
              "0        0.0    0.0            0.0    0.0          1.0           1.0   \n",
              "1        0.0    0.0            0.0    0.0          1.0           1.0   \n",
              "2        0.0    0.0            0.0    0.0          1.0           1.0   \n",
              "3        0.0    0.0            0.0    0.0          1.0           1.0   \n",
              "4        0.0    0.0            0.0    0.0          1.0           1.0   \n",
              "...      ...    ...            ...    ...          ...           ...   \n",
              "2127     0.0    0.0            0.0    0.0          1.0           1.0   \n",
              "2128     0.0    0.0            0.0    0.0          1.0           1.0   \n",
              "2129     0.0    1.0            0.0    0.0          1.0           1.0   \n",
              "2130     0.0    0.0            0.0    0.0          1.0           1.0   \n",
              "2131     0.0    0.0            0.0    0.0          1.0           1.0   \n",
              "\n",
              "      T4U_measured  FTI_measured  TBG_measured  referral_source  \n",
              "0              1.0           1.0           0.0              3.0  \n",
              "1              1.0           1.0           0.0              4.0  \n",
              "2              1.0           1.0           0.0              3.0  \n",
              "3              1.0           1.0           0.0              4.0  \n",
              "4              1.0           1.0           0.0              3.0  \n",
              "...            ...           ...           ...              ...  \n",
              "2127           1.0           1.0           0.0              2.0  \n",
              "2128           1.0           1.0           0.0              4.0  \n",
              "2129           1.0           1.0           0.0              4.0  \n",
              "2130           0.0           0.0           0.0              4.0  \n",
              "2131           1.0           1.0           0.0              3.0  \n",
              "\n",
              "[2132 rows x 27 columns]"
            ]
          },
          "execution_count": 64,
          "metadata": {},
          "output_type": "execute_result"
        }
      ],
      "source": [
        "X_train_final"
      ]
    },
    {
      "cell_type": "markdown",
      "metadata": {
        "id": "cjzwSq0X9hoF"
      },
      "source": [
        "## Handling imbalanced Dataset"
      ]
    },
    {
      "cell_type": "markdown",
      "metadata": {
        "id": "CJRgAT519hoF"
      },
      "source": [
        "#Since the dataset is small, will use over-sampling: SMOTE technique to balance the data\n",
        "\n",
        "SMOTE (Synthetic Minority Oversampling Technique) consists of synthesizing elements for the minority class, based on those that already exist. It works randomly picking a point from the minority class and computing the k-nearest neighbours for this point. The synthetic points are added between the chosen point and its neighbours."
      ]
    },
    {
      "cell_type": "code",
      "execution_count": 65,
      "metadata": {
        "colab": {
          "base_uri": "https://localhost:8080/"
        },
        "id": "zPqSyw149hoG",
        "outputId": "87b49ca5-c4a4-4022-f9a3-5b7666470dc2"
      },
      "outputs": [
        {
          "data": {
            "text/plain": [
              "((8268, 27), (1572, 27), (8268, 1), (1572, 1))"
            ]
          },
          "execution_count": 65,
          "metadata": {},
          "output_type": "execute_result"
        }
      ],
      "source": [
        "from imblearn.over_sampling import SMOTE\n",
        "\n",
        "X_train_resample,Y_train_resample=SMOTE(random_state=0,k_neighbors=1).fit_resample(X_train_final,Y_train_cat_encoded)\n",
        "X_test_resample,Y_test_resample=SMOTE(random_state=0,k_neighbors=1).fit_resample(X_test_final,Y_test_cat_encoded)\n",
        "\n",
        "X_train_resample.shape,X_test_resample.shape,Y_train_resample.shape,Y_test_resample.shape"
      ]
    },
    {
      "cell_type": "markdown",
      "metadata": {
        "id": "FvTQdjMY9hoG"
      },
      "source": [
        "## Feature Selection"
      ]
    },
    {
      "cell_type": "code",
      "execution_count": 66,
      "metadata": {
        "colab": {
          "base_uri": "https://localhost:8080/"
        },
        "id": "teXxGNRwfMhi",
        "outputId": "79fdc8d2-18c4-47a0-b8d0-c4828d7c9940"
      },
      "outputs": [
        {
          "name": "stdout",
          "output_type": "stream",
          "text": [
            "Requirement already satisfied: joblib in c:\\users\\sakshi singh\\desktop\\project thy\\.venv\\lib\\site-packages (1.1.0)Note: you may need to restart the kernel to use updated packages.\n"
          ]
        },
        {
          "name": "stderr",
          "output_type": "stream",
          "text": [
            "WARNING: You are using pip version 20.2.3; however, version 22.0.3 is available.\n",
            "You should consider upgrading via the 'c:\\Users\\sakshi singh\\Desktop\\Project Thy\\.venv\\Scripts\\python.exe -m pip install --upgrade pip' command.\n"
          ]
        },
        {
          "name": "stdout",
          "output_type": "stream",
          "text": [
            "\n"
          ]
        }
      ],
      "source": [
        "pip install joblib"
      ]
    },
    {
      "cell_type": "code",
      "execution_count": 67,
      "metadata": {
        "id": "ly42vEUmew0_"
      },
      "outputs": [],
      "source": [
        "import joblib"
      ]
    },
    {
      "cell_type": "code",
      "execution_count": 68,
      "metadata": {
        "id": "3PWHgLa1FTHI"
      },
      "outputs": [],
      "source": [
        "import joblib\n",
        "import sys\n",
        "\n",
        "sys.modules['sklearn.externals.joblib'] = joblib"
      ]
    },
    {
      "cell_type": "code",
      "execution_count": 69,
      "metadata": {
        "id": "9NdS99yP9hoG"
      },
      "outputs": [],
      "source": [
        "\n",
        "#from sklearn.feature_selection import SequentialFeatureSelector as sfs\n",
        "from mlxtend.feature_selection import SequentialFeatureSelector as sfs\n",
        "from sklearn.ensemble import RandomForestClassifier"
      ]
    },
    {
      "cell_type": "code",
      "execution_count": 70,
      "metadata": {
        "colab": {
          "base_uri": "https://localhost:8080/"
        },
        "id": "_fQyQl6V9hoG",
        "outputId": "53d1a83f-9eb9-4cff-f4f8-d012e162dc62"
      },
      "outputs": [
        {
          "name": "stdout",
          "output_type": "stream",
          "text": [
            "Training dataset shape: (8268, 27) (8268, 1)\n",
            "Testing dataset shape: (1572, 27) (1572, 1)\n",
            "Training dataset shape: (8268, 27) (8268,)\n",
            "Testing dataset shape: (1572, 27) (1572,)\n"
          ]
        }
      ],
      "source": [
        "print('Training dataset shape:', X_train_resample.shape, Y_train_resample.shape)\n",
        "print('Testing dataset shape:', X_test_resample.shape, Y_test_resample.shape)\n",
        "\n",
        "Y_train_resample_flat = Y_train_resample.to_numpy().ravel()\n",
        "Y_test_resample_flat = Y_test_resample.to_numpy().ravel()\n",
        "\n",
        "print('Training dataset shape:', X_train_resample.shape, Y_train_resample_flat.shape)\n",
        "print('Testing dataset shape:', X_test_resample.shape, Y_test_resample_flat.shape)\n"
      ]
    },
    {
      "cell_type": "code",
      "execution_count": 71,
      "metadata": {
        "colab": {
          "base_uri": "https://localhost:8080/"
        },
        "id": "QomEt3Aw9hoG",
        "outputId": "ca5220c9-5d9b-4c7e-d67d-a79b78ee5809"
      },
      "outputs": [
        {
          "name": "stderr",
          "output_type": "stream",
          "text": [
            "[Parallel(n_jobs=1)]: Using backend SequentialBackend with 1 concurrent workers.\n",
            "[Parallel(n_jobs=1)]: Done   1 out of   1 | elapsed:    8.5s remaining:    0.0s\n",
            "[Parallel(n_jobs=1)]: Done  27 out of  27 | elapsed:  2.2min finished\n",
            "\n",
            "[2022-02-27 18:09:59] Features: 1/10 -- score: 0.7818106538915358[Parallel(n_jobs=1)]: Using backend SequentialBackend with 1 concurrent workers.\n",
            "[Parallel(n_jobs=1)]: Done   1 out of   1 | elapsed:    5.2s remaining:    0.0s\n",
            "[Parallel(n_jobs=1)]: Done  26 out of  26 | elapsed:  2.8min finished\n",
            "\n",
            "[2022-02-27 18:12:45] Features: 2/10 -- score: 0.9430342837872733[Parallel(n_jobs=1)]: Using backend SequentialBackend with 1 concurrent workers.\n",
            "[Parallel(n_jobs=1)]: Done   1 out of   1 | elapsed:    8.3s remaining:    0.0s\n",
            "[Parallel(n_jobs=1)]: Done  25 out of  25 | elapsed:  2.4min finished\n",
            "\n",
            "[2022-02-27 18:15:08] Features: 3/10 -- score: 0.9885103556539683[Parallel(n_jobs=1)]: Using backend SequentialBackend with 1 concurrent workers.\n",
            "[Parallel(n_jobs=1)]: Done   1 out of   1 | elapsed:   10.8s remaining:    0.0s\n",
            "[Parallel(n_jobs=1)]: Done  24 out of  24 | elapsed:  2.6min finished\n",
            "\n",
            "[2022-02-27 18:17:45] Features: 4/10 -- score: 0.9934686923705461[Parallel(n_jobs=1)]: Using backend SequentialBackend with 1 concurrent workers.\n",
            "[Parallel(n_jobs=1)]: Done   1 out of   1 | elapsed:    7.3s remaining:    0.0s\n",
            "[Parallel(n_jobs=1)]: Done  23 out of  23 | elapsed:  2.7min finished\n",
            "\n",
            "[2022-02-27 18:20:27] Features: 5/10 -- score: 0.9950409317711157[Parallel(n_jobs=1)]: Using backend SequentialBackend with 1 concurrent workers.\n",
            "[Parallel(n_jobs=1)]: Done   1 out of   1 | elapsed:    7.1s remaining:    0.0s\n",
            "[Parallel(n_jobs=1)]: Done  22 out of  22 | elapsed:  2.4min finished\n",
            "\n",
            "[2022-02-27 18:22:49] Features: 6/10 -- score: 0.9964920327337128[Parallel(n_jobs=1)]: Using backend SequentialBackend with 1 concurrent workers.\n",
            "[Parallel(n_jobs=1)]: Done   1 out of   1 | elapsed:    7.0s remaining:    0.0s\n",
            "[Parallel(n_jobs=1)]: Done  21 out of  21 | elapsed:  2.1min finished\n",
            "\n",
            "[2022-02-27 18:24:54] Features: 7/10 -- score: 0.9972178392443185[Parallel(n_jobs=1)]: Using backend SequentialBackend with 1 concurrent workers.\n",
            "[Parallel(n_jobs=1)]: Done   1 out of   1 | elapsed:    6.7s remaining:    0.0s\n",
            "[Parallel(n_jobs=1)]: Done  20 out of  20 | elapsed:  2.2min finished\n",
            "\n",
            "[2022-02-27 18:27:05] Features: 8/10 -- score: 0.9973388313798296[Parallel(n_jobs=1)]: Using backend SequentialBackend with 1 concurrent workers.\n",
            "[Parallel(n_jobs=1)]: Done   1 out of   1 | elapsed:    7.7s remaining:    0.0s\n",
            "[Parallel(n_jobs=1)]: Done  19 out of  19 | elapsed:  2.3min finished\n",
            "\n",
            "[2022-02-27 18:29:21] Features: 9/10 -- score: 0.9975807424996214[Parallel(n_jobs=1)]: Using backend SequentialBackend with 1 concurrent workers.\n",
            "[Parallel(n_jobs=1)]: Done   1 out of   1 | elapsed:    7.7s remaining:    0.0s\n",
            "[Parallel(n_jobs=1)]: Done  18 out of  18 | elapsed:  2.2min finished\n",
            "\n",
            "[2022-02-27 18:31:31] Features: 10/10 -- score: 0.9973389045310604"
          ]
        }
      ],
      "source": [
        "rf = RandomForestClassifier(n_estimators=100, max_depth=5)\n",
        "\n",
        "forward_fs = sfs(rf , k_features=10,forward=True,floating=False,verbose=2,scoring='accuracy',cv=5)\n",
        "\n",
        "forward_fs = forward_fs.fit(X_train_resample, Y_train_resample_flat)"
      ]
    },
    {
      "cell_type": "code",
      "execution_count": 72,
      "metadata": {
        "id": "LQZILlTp9hoG"
      },
      "outputs": [
        {
          "name": "stdout",
          "output_type": "stream",
          "text": [
            "['age', 'TSH', 'T3', 'TT4', 'FTI', 'on_thyroxine', 'on_antithyroid_medication', 'pregnant', 'tumor', 'hypopituitary']\n"
          ]
        }
      ],
      "source": [
        "feat_names = list(forward_fs.k_feature_names_)\n",
        "print(feat_names)"
      ]
    },
    {
      "cell_type": "code",
      "execution_count": 73,
      "metadata": {
        "id": "yfbZK4dw9hoG"
      },
      "outputs": [],
      "source": [
        "X_train_new=X_train_resample[['age', 'TSH', 'T3', 'TT4', 'FTI', 'on_thyroxine', 'pregnant', 'tumor', 'T4U_measured','FTI_measured']]\n",
        "X_test_new=X_test_resample[['age', 'TSH', 'T3', 'TT4', 'FTI', 'on_thyroxine', 'pregnant', 'tumor',  'T4U_measured','FTI_measured']]\n"
      ]
    },
    {
      "cell_type": "code",
      "execution_count": 74,
      "metadata": {
        "id": "Mb4KDqkW9hoG"
      },
      "outputs": [],
      "source": [
        "rf_model=rf.fit(X_train_new,Y_train_resample_flat)"
      ]
    },
    {
      "cell_type": "code",
      "execution_count": 75,
      "metadata": {
        "id": "waowtDBv9hoH"
      },
      "outputs": [],
      "source": [
        "from sklearn.metrics import confusion_matrix,classification_report,accuracy_score"
      ]
    },
    {
      "cell_type": "code",
      "execution_count": 76,
      "metadata": {
        "id": "zRk3NrUT9hoH"
      },
      "outputs": [],
      "source": [
        "\n",
        "def print_Score(clf,x_train,x_test,y_train,y_test,train=True):\n",
        "    if train:\n",
        "        pred=clf.predict(x_train)\n",
        "        clf_report=pd.DataFrame(classification_report(y_train,pred,output_dict=True))\n",
        "        print(\"Train Result:\\n===============\")\n",
        "        print(f\"Accuracy Score:{accuracy_score(y_train,pred)*100:.2f}%\")\n",
        "        print(\"---------------------------------\")\n",
        "        print(f\"Classification Report:\\n{clf_report}\")\n",
        "        print(\"-----------------------------------\")\n",
        "        print(f\"Confusion Matrix:\\n{confusion_matrix(y_train,pred)}\\n\")\n",
        "    elif train==False:\n",
        "        pred=clf.predict(x_test)\n",
        "        clf_report=pd.DataFrame(classification_report(y_test,pred,output_dict=True))\n",
        "        print(\"Test Result:\\n===============\")\n",
        "        print(f\"Accuracy Score:{accuracy_score(y_test,pred)*100:.2f}%\")\n",
        "        print(\"---------------------------------\")\n",
        "        print(f\"Classification Report:\\n{clf_report}\")\n",
        "        print(\"---------------------------------\")\n",
        "        print(f\"Confusion Matrix:\\n{confusion_matrix(y_test,pred)}\\n\")"
      ]
    },
    {
      "cell_type": "code",
      "execution_count": 77,
      "metadata": {
        "id": "XeetwTsV9hoH"
      },
      "outputs": [
        {
          "name": "stdout",
          "output_type": "stream",
          "text": [
            "Train Result:\n",
            "===============\n",
            "Accuracy Score:99.77%\n",
            "---------------------------------\n",
            "Classification Report:\n",
            "                     0       1            2            3  accuracy  \\\n",
            "precision     0.997587     1.0     0.993272     1.000000  0.997702   \n",
            "recall        1.000000     1.0     1.000000     0.990808  0.997702   \n",
            "f1-score      0.998792     1.0     0.996625     0.995383  0.997702   \n",
            "support    2067.000000  2067.0  2067.000000  2067.000000  0.997702   \n",
            "\n",
            "             macro avg  weighted avg  \n",
            "precision     0.997715      0.997715  \n",
            "recall        0.997702      0.997702  \n",
            "f1-score      0.997700      0.997700  \n",
            "support    8268.000000   8268.000000  \n",
            "-----------------------------------\n",
            "Confusion Matrix:\n",
            "[[2067    0    0    0]\n",
            " [   0 2067    0    0]\n",
            " [   0    0 2067    0]\n",
            " [   5    0   14 2048]]\n",
            "\n"
          ]
        }
      ],
      "source": [
        "print_Score(rf_model,X_train_new,X_test_new,Y_train_resample_flat,Y_test_resample_flat,train=True)"
      ]
    },
    {
      "cell_type": "code",
      "execution_count": 78,
      "metadata": {
        "id": "H9obQSzv9hoH"
      },
      "outputs": [
        {
          "name": "stdout",
          "output_type": "stream",
          "text": [
            "Test Result:\n",
            "===============\n",
            "Accuracy Score:93.38%\n",
            "---------------------------------\n",
            "Classification Report:\n",
            "                    0    1           2           3  accuracy    macro avg  \\\n",
            "precision    0.997647  0.0    0.996198    0.838710  0.933842     0.708139   \n",
            "recall       0.809160  0.0    1.000000    0.992366  0.933842     0.700382   \n",
            "f1-score     0.893572  0.0    0.998095    0.909091  0.933842     0.700190   \n",
            "support    524.000000  0.0  524.000000  524.000000  0.933842  1572.000000   \n",
            "\n",
            "           weighted avg  \n",
            "precision      0.944185  \n",
            "recall         0.933842  \n",
            "f1-score       0.933586  \n",
            "support     1572.000000  \n",
            "---------------------------------\n",
            "Confusion Matrix:\n",
            "[[424   0   0 100]\n",
            " [  0   0   0   0]\n",
            " [  0   0 524   0]\n",
            " [  1   1   2 520]]\n",
            "\n"
          ]
        },
        {
          "name": "stderr",
          "output_type": "stream",
          "text": [
            "c:\\Users\\sakshi singh\\Desktop\\Project Thy\\.venv\\lib\\site-packages\\sklearn\\metrics\\_classification.py:1318: UndefinedMetricWarning: Recall and F-score are ill-defined and being set to 0.0 in labels with no true samples. Use `zero_division` parameter to control this behavior.\n",
            "  _warn_prf(average, modifier, msg_start, len(result))\n",
            "c:\\Users\\sakshi singh\\Desktop\\Project Thy\\.venv\\lib\\site-packages\\sklearn\\metrics\\_classification.py:1318: UndefinedMetricWarning: Recall and F-score are ill-defined and being set to 0.0 in labels with no true samples. Use `zero_division` parameter to control this behavior.\n",
            "  _warn_prf(average, modifier, msg_start, len(result))\n",
            "c:\\Users\\sakshi singh\\Desktop\\Project Thy\\.venv\\lib\\site-packages\\sklearn\\metrics\\_classification.py:1318: UndefinedMetricWarning: Recall and F-score are ill-defined and being set to 0.0 in labels with no true samples. Use `zero_division` parameter to control this behavior.\n",
            "  _warn_prf(average, modifier, msg_start, len(result))\n"
          ]
        }
      ],
      "source": [
        "print_Score(rf_model,X_train_new,X_test_new,Y_train_resample_flat,Y_test_resample_flat,train=False)"
      ]
    },
    {
      "cell_type": "code",
      "execution_count": 79,
      "metadata": {
        "id": "I0tFZuw49hoH"
      },
      "outputs": [
        {
          "name": "stdout",
          "output_type": "stream",
          "text": [
            "Train Result:\n",
            "===============\n",
            "Accuracy Score:97.94%\n",
            "---------------------------------\n",
            "Classification Report:\n",
            "                     0            1            2            3  accuracy  \\\n",
            "precision     0.959165     0.986635     0.974088     1.000000  0.979439   \n",
            "recall        1.000000     1.000000     0.982100     0.935656  0.979439   \n",
            "f1-score      0.979157     0.993272     0.978078     0.966758  0.979439   \n",
            "support    2067.000000  2067.000000  2067.000000  2067.000000  0.979439   \n",
            "\n",
            "             macro avg  weighted avg  \n",
            "precision     0.979972      0.979972  \n",
            "recall        0.979439      0.979439  \n",
            "f1-score      0.979316      0.979316  \n",
            "support    8268.000000   8268.000000  \n",
            "-----------------------------------\n",
            "Confusion Matrix:\n",
            "[[2067    0    0    0]\n",
            " [   0 2067    0    0]\n",
            " [  20   17 2030    0]\n",
            " [  68   11   54 1934]]\n",
            "\n"
          ]
        },
        {
          "name": "stderr",
          "output_type": "stream",
          "text": [
            "c:\\Users\\sakshi singh\\Desktop\\Project Thy\\.venv\\lib\\site-packages\\sklearn\\linear_model\\_logistic.py:814: ConvergenceWarning: lbfgs failed to converge (status=1):\n",
            "STOP: TOTAL NO. of ITERATIONS REACHED LIMIT.\n",
            "\n",
            "Increase the number of iterations (max_iter) or scale the data as shown in:\n",
            "    https://scikit-learn.org/stable/modules/preprocessing.html\n",
            "Please also refer to the documentation for alternative solver options:\n",
            "    https://scikit-learn.org/stable/modules/linear_model.html#logistic-regression\n",
            "  n_iter_i = _check_optimize_result(\n"
          ]
        }
      ],
      "source": [
        "## Logistic Regression\n",
        "\n",
        "from sklearn.linear_model import LogisticRegression\n",
        "lr=LogisticRegression(random_state=0,max_iter=10)\n",
        "\n",
        "lr_model=lr.fit(X_train_new,Y_train_resample_flat)\n",
        "\n",
        "lr_train_score=print_Score(lr_model,X_train_new,X_test_new,Y_train_resample_flat,Y_test_resample_flat,train=True)\n"
      ]
    },
    {
      "cell_type": "code",
      "execution_count": 80,
      "metadata": {
        "id": "wGh2bZIY9hoH"
      },
      "outputs": [
        {
          "name": "stdout",
          "output_type": "stream",
          "text": [
            "Test Result:\n",
            "===============\n",
            "Accuracy Score:97.26%\n",
            "---------------------------------\n",
            "Classification Report:\n",
            "                    0    1           2           3  accuracy    macro avg  \\\n",
            "precision    0.973978  0.0    0.977055    0.974359  0.972646     0.731348   \n",
            "recall       1.000000  0.0    0.975191    0.942748  0.972646     0.729485   \n",
            "f1-score     0.986817  0.0    0.976122    0.958293  0.972646     0.730308   \n",
            "support    524.000000  0.0  524.000000  524.000000  0.972646  1572.000000   \n",
            "\n",
            "           weighted avg  \n",
            "precision      0.975131  \n",
            "recall         0.972646  \n",
            "f1-score       0.973744  \n",
            "support     1572.000000  \n",
            "---------------------------------\n",
            "Confusion Matrix:\n",
            "[[524   0   0   0]\n",
            " [  0   0   0   0]\n",
            " [  0   0 511  13]\n",
            " [ 14   4  12 494]]\n",
            "\n"
          ]
        },
        {
          "name": "stderr",
          "output_type": "stream",
          "text": [
            "c:\\Users\\sakshi singh\\Desktop\\Project Thy\\.venv\\lib\\site-packages\\sklearn\\metrics\\_classification.py:1318: UndefinedMetricWarning: Recall and F-score are ill-defined and being set to 0.0 in labels with no true samples. Use `zero_division` parameter to control this behavior.\n",
            "  _warn_prf(average, modifier, msg_start, len(result))\n",
            "c:\\Users\\sakshi singh\\Desktop\\Project Thy\\.venv\\lib\\site-packages\\sklearn\\metrics\\_classification.py:1318: UndefinedMetricWarning: Recall and F-score are ill-defined and being set to 0.0 in labels with no true samples. Use `zero_division` parameter to control this behavior.\n",
            "  _warn_prf(average, modifier, msg_start, len(result))\n",
            "c:\\Users\\sakshi singh\\Desktop\\Project Thy\\.venv\\lib\\site-packages\\sklearn\\metrics\\_classification.py:1318: UndefinedMetricWarning: Recall and F-score are ill-defined and being set to 0.0 in labels with no true samples. Use `zero_division` parameter to control this behavior.\n",
            "  _warn_prf(average, modifier, msg_start, len(result))\n"
          ]
        }
      ],
      "source": [
        "lr_test_score=print_Score(lr_model,X_train_new,X_test_new,Y_train_resample_flat,Y_test_resample_flat,train=False)"
      ]
    },
    {
      "cell_type": "code",
      "execution_count": 81,
      "metadata": {
        "id": "VsbHIiCS9hoH"
      },
      "outputs": [
        {
          "name": "stdout",
          "output_type": "stream",
          "text": [
            "Train Result:\n",
            "===============\n",
            "Accuracy Score:86.43%\n",
            "---------------------------------\n",
            "Classification Report:\n",
            "                     0            1            2            3  accuracy  \\\n",
            "precision     0.877707     0.986635     0.718106     0.975262  0.864296   \n",
            "recall        1.000000     1.000000     0.961297     0.495888  0.864296   \n",
            "f1-score      0.934871     0.993272     0.822094     0.657473  0.864296   \n",
            "support    2067.000000  2067.000000  2067.000000  2067.000000  0.864296   \n",
            "\n",
            "             macro avg  weighted avg  \n",
            "precision     0.889427      0.889427  \n",
            "recall        0.864296      0.864296  \n",
            "f1-score      0.851927      0.851927  \n",
            "support    8268.000000   8268.000000  \n",
            "-----------------------------------\n",
            "Confusion Matrix:\n",
            "[[2067    0    0    0]\n",
            " [   0 2067    0    0]\n",
            " [  50    4 1987   26]\n",
            " [ 238   24  780 1025]]\n",
            "\n"
          ]
        }
      ],
      "source": [
        "## Navie Bayes Classification\n",
        "\n",
        "from sklearn.naive_bayes import GaussianNB\n",
        "\n",
        "gnb=GaussianNB()\n",
        "\n",
        "gnb_model=gnb.fit(X_train_new,Y_train_resample_flat)\n",
        "\n",
        "gnb_train_score=print_Score(gnb_model,X_train_new,X_test_new,Y_train_resample_flat,Y_test_resample_flat,train=True)\n"
      ]
    },
    {
      "cell_type": "code",
      "execution_count": 82,
      "metadata": {
        "id": "ONJ45JWU9hoH"
      },
      "outputs": [
        {
          "name": "stdout",
          "output_type": "stream",
          "text": [
            "Test Result:\n",
            "===============\n",
            "Accuracy Score:73.47%\n",
            "---------------------------------\n",
            "Classification Report:\n",
            "                    0    1           2           3  accuracy    macro avg  \\\n",
            "precision    0.890777  0.0    0.592760    1.000000  0.734733     0.620884   \n",
            "recall       0.700382  0.0    1.000000    0.503817  0.734733     0.551050   \n",
            "f1-score     0.784188  0.0    0.744318    0.670051  0.734733     0.549639   \n",
            "support    524.000000  0.0  524.000000  524.000000  0.734733  1572.000000   \n",
            "\n",
            "           weighted avg  \n",
            "precision      0.827846  \n",
            "recall         0.734733  \n",
            "f1-score       0.732852  \n",
            "support     1572.000000  \n",
            "---------------------------------\n",
            "Confusion Matrix:\n",
            "[[367   0 157   0]\n",
            " [  0   0   0   0]\n",
            " [  0   0 524   0]\n",
            " [ 45  12 203 264]]\n",
            "\n"
          ]
        },
        {
          "name": "stderr",
          "output_type": "stream",
          "text": [
            "c:\\Users\\sakshi singh\\Desktop\\Project Thy\\.venv\\lib\\site-packages\\sklearn\\metrics\\_classification.py:1318: UndefinedMetricWarning: Recall and F-score are ill-defined and being set to 0.0 in labels with no true samples. Use `zero_division` parameter to control this behavior.\n",
            "  _warn_prf(average, modifier, msg_start, len(result))\n",
            "c:\\Users\\sakshi singh\\Desktop\\Project Thy\\.venv\\lib\\site-packages\\sklearn\\metrics\\_classification.py:1318: UndefinedMetricWarning: Recall and F-score are ill-defined and being set to 0.0 in labels with no true samples. Use `zero_division` parameter to control this behavior.\n",
            "  _warn_prf(average, modifier, msg_start, len(result))\n",
            "c:\\Users\\sakshi singh\\Desktop\\Project Thy\\.venv\\lib\\site-packages\\sklearn\\metrics\\_classification.py:1318: UndefinedMetricWarning: Recall and F-score are ill-defined and being set to 0.0 in labels with no true samples. Use `zero_division` parameter to control this behavior.\n",
            "  _warn_prf(average, modifier, msg_start, len(result))\n"
          ]
        }
      ],
      "source": [
        "gnb_test_score=print_Score(gnb_model,X_train_new,X_test_new,Y_train_resample_flat,Y_test_resample_flat,train=False)"
      ]
    },
    {
      "cell_type": "code",
      "execution_count": 83,
      "metadata": {
        "id": "7pWWJj7N9hoI"
      },
      "outputs": [
        {
          "name": "stdout",
          "output_type": "stream",
          "text": [
            "Train Result:\n",
            "===============\n",
            "Accuracy Score:99.93%\n",
            "---------------------------------\n",
            "Classification Report:\n",
            "                0       1            2            3  accuracy    macro avg  \\\n",
            "precision     1.0     1.0     0.997106     1.000000  0.999274     0.999276   \n",
            "recall        1.0     1.0     1.000000     0.997097  0.999274     0.999274   \n",
            "f1-score      1.0     1.0     0.998551     0.998547  0.999274     0.999274   \n",
            "support    2067.0  2067.0  2067.000000  2067.000000  0.999274  8268.000000   \n",
            "\n",
            "           weighted avg  \n",
            "precision      0.999276  \n",
            "recall         0.999274  \n",
            "f1-score       0.999274  \n",
            "support     8268.000000  \n",
            "-----------------------------------\n",
            "Confusion Matrix:\n",
            "[[2067    0    0    0]\n",
            " [   0 2067    0    0]\n",
            " [   0    0 2067    0]\n",
            " [   0    0    6 2061]]\n",
            "\n"
          ]
        }
      ],
      "source": [
        "## Decision Tree\n",
        "\n",
        "from sklearn.tree import DecisionTreeClassifier\n",
        "\n",
        "dtc=DecisionTreeClassifier(random_state=0,max_depth=10,min_samples_split=5)\n",
        "dt_model=dtc.fit(X_train_new,Y_train_resample_flat)\n",
        "\n",
        "dt_train_score=print_Score(dt_model,X_train_new,X_test_new,Y_train_resample_flat,Y_test_resample_flat,train=True)"
      ]
    },
    {
      "cell_type": "code",
      "execution_count": 84,
      "metadata": {
        "id": "7pimBhsn9hoI"
      },
      "outputs": [
        {
          "name": "stdout",
          "output_type": "stream",
          "text": [
            "Test Result:\n",
            "===============\n",
            "Accuracy Score:75.64%\n",
            "---------------------------------\n",
            "Classification Report:\n",
            "                    0    1           2           3  accuracy    macro avg  \\\n",
            "precision    0.994819  0.0    0.941061    0.596774  0.756361     0.633163   \n",
            "recall       0.366412  0.0    0.914122    0.988550  0.756361     0.567271   \n",
            "f1-score     0.535565  0.0    0.927396    0.744253  0.756361     0.551803   \n",
            "support    524.000000  0.0  524.000000  524.000000  0.756361  1572.000000   \n",
            "\n",
            "           weighted avg  \n",
            "precision      0.844218  \n",
            "recall         0.756361  \n",
            "f1-score       0.735738  \n",
            "support     1572.000000  \n",
            "---------------------------------\n",
            "Confusion Matrix:\n",
            "[[192   0  27 305]\n",
            " [  0   0   0   0]\n",
            " [  0   0 479  45]\n",
            " [  1   2   3 518]]\n",
            "\n"
          ]
        },
        {
          "name": "stderr",
          "output_type": "stream",
          "text": [
            "c:\\Users\\sakshi singh\\Desktop\\Project Thy\\.venv\\lib\\site-packages\\sklearn\\metrics\\_classification.py:1318: UndefinedMetricWarning: Recall and F-score are ill-defined and being set to 0.0 in labels with no true samples. Use `zero_division` parameter to control this behavior.\n",
            "  _warn_prf(average, modifier, msg_start, len(result))\n",
            "c:\\Users\\sakshi singh\\Desktop\\Project Thy\\.venv\\lib\\site-packages\\sklearn\\metrics\\_classification.py:1318: UndefinedMetricWarning: Recall and F-score are ill-defined and being set to 0.0 in labels with no true samples. Use `zero_division` parameter to control this behavior.\n",
            "  _warn_prf(average, modifier, msg_start, len(result))\n",
            "c:\\Users\\sakshi singh\\Desktop\\Project Thy\\.venv\\lib\\site-packages\\sklearn\\metrics\\_classification.py:1318: UndefinedMetricWarning: Recall and F-score are ill-defined and being set to 0.0 in labels with no true samples. Use `zero_division` parameter to control this behavior.\n",
            "  _warn_prf(average, modifier, msg_start, len(result))\n"
          ]
        }
      ],
      "source": [
        "dt_test_model=print_Score(dt_model,X_train_new,X_test_new,Y_train_resample_flat,Y_test_resample_flat,train=False)"
      ]
    },
    {
      "cell_type": "code",
      "execution_count": 85,
      "metadata": {
        "id": "BtFu1Xoc9hoI"
      },
      "outputs": [
        {
          "name": "stdout",
          "output_type": "stream",
          "text": [
            "Train Result:\n",
            "===============\n",
            "Accuracy Score:99.55%\n",
            "---------------------------------\n",
            "Classification Report:\n",
            "                     0       1            2            3  accuracy  \\\n",
            "precision     0.996145     1.0     0.986164     1.000000  0.995525   \n",
            "recall        1.000000     1.0     1.000000     0.982100  0.995525   \n",
            "f1-score      0.998069     1.0     0.993034     0.990969  0.995525   \n",
            "support    2067.000000  2067.0  2067.000000  2067.000000  0.995525   \n",
            "\n",
            "             macro avg  weighted avg  \n",
            "precision     0.995577      0.995577  \n",
            "recall        0.995525      0.995525  \n",
            "f1-score      0.995518      0.995518  \n",
            "support    8268.000000   8268.000000  \n",
            "-----------------------------------\n",
            "Confusion Matrix:\n",
            "[[2067    0    0    0]\n",
            " [   0 2067    0    0]\n",
            " [   0    0 2067    0]\n",
            " [   8    0   29 2030]]\n",
            "\n"
          ]
        }
      ],
      "source": [
        "## KNN\n",
        "\n",
        "from sklearn.neighbors import KNeighborsClassifier\n",
        "\n",
        "knn=KNeighborsClassifier()\n",
        "knn_model=knn.fit(X_train_new,Y_train_resample_flat)\n",
        "\n",
        "knn_train_score=print_Score(knn_model,X_train_new,X_test_new,Y_train_resample_flat,Y_test_resample_flat,train=True)"
      ]
    },
    {
      "cell_type": "code",
      "execution_count": 86,
      "metadata": {
        "id": "-CSLPCOV9hoI"
      },
      "outputs": [
        {
          "name": "stdout",
          "output_type": "stream",
          "text": [
            "Test Result:\n",
            "===============\n",
            "Accuracy Score:84.03%\n",
            "---------------------------------\n",
            "Classification Report:\n",
            "                    0    1           2           3  accuracy    macro avg  \\\n",
            "precision    0.996441  0.0    0.988679    0.998069  0.840331     0.745798   \n",
            "recall       0.534351  0.0    1.000000    0.986641  0.840331     0.630248   \n",
            "f1-score     0.695652  0.0    0.994307    0.992322  0.840331     0.670571   \n",
            "support    524.000000  0.0  524.000000  524.000000  0.840331  1572.000000   \n",
            "\n",
            "           weighted avg  \n",
            "precision      0.994397  \n",
            "recall         0.840331  \n",
            "f1-score       0.894094  \n",
            "support     1572.000000  \n",
            "---------------------------------\n",
            "Confusion Matrix:\n",
            "[[280 243   0   1]\n",
            " [  0   0   0   0]\n",
            " [  0   0 524   0]\n",
            " [  1   0   6 517]]\n",
            "\n"
          ]
        },
        {
          "name": "stderr",
          "output_type": "stream",
          "text": [
            "c:\\Users\\sakshi singh\\Desktop\\Project Thy\\.venv\\lib\\site-packages\\sklearn\\metrics\\_classification.py:1318: UndefinedMetricWarning: Recall and F-score are ill-defined and being set to 0.0 in labels with no true samples. Use `zero_division` parameter to control this behavior.\n",
            "  _warn_prf(average, modifier, msg_start, len(result))\n",
            "c:\\Users\\sakshi singh\\Desktop\\Project Thy\\.venv\\lib\\site-packages\\sklearn\\metrics\\_classification.py:1318: UndefinedMetricWarning: Recall and F-score are ill-defined and being set to 0.0 in labels with no true samples. Use `zero_division` parameter to control this behavior.\n",
            "  _warn_prf(average, modifier, msg_start, len(result))\n",
            "c:\\Users\\sakshi singh\\Desktop\\Project Thy\\.venv\\lib\\site-packages\\sklearn\\metrics\\_classification.py:1318: UndefinedMetricWarning: Recall and F-score are ill-defined and being set to 0.0 in labels with no true samples. Use `zero_division` parameter to control this behavior.\n",
            "  _warn_prf(average, modifier, msg_start, len(result))\n"
          ]
        }
      ],
      "source": [
        "knn_test_score=print_Score(knn_model,X_train_new,X_test_new,Y_train_resample_flat,Y_test_resample_flat,train=False)"
      ]
    },
    {
      "cell_type": "markdown",
      "metadata": {
        "id": "1QjKxjXc9hoI"
      },
      "source": [
        "# Pickling the Model"
      ]
    },
    {
      "cell_type": "code",
      "execution_count": 87,
      "metadata": {
        "id": "w3ICjcIt9hoI"
      },
      "outputs": [],
      "source": [
        "import pickle\n"
      ]
    },
    {
      "cell_type": "code",
      "execution_count": 88,
      "metadata": {
        "id": "LZ0HFbwy9hoI"
      },
      "outputs": [],
      "source": [
        "filename = 'model.sav'\n"
      ]
    },
    {
      "cell_type": "code",
      "execution_count": 90,
      "metadata": {
        "id": "Ridvc7Q59hoI"
      },
      "outputs": [],
      "source": [
        "pickle.dump(lr_model, open(filename, 'wb'))\n"
      ]
    },
    {
      "cell_type": "code",
      "execution_count": 91,
      "metadata": {
        "id": "GXe_73gW9hoJ"
      },
      "outputs": [],
      "source": [
        "load_model = pickle.load(open(filename, 'rb'))\n"
      ]
    },
    {
      "cell_type": "code",
      "execution_count": 92,
      "metadata": {
        "id": "yYcemVLO9hoJ"
      },
      "outputs": [],
      "source": [
        "model_score_r1 = load_model.score(X_test_new, Y_test_resample_flat)\n"
      ]
    },
    {
      "cell_type": "code",
      "execution_count": 93,
      "metadata": {
        "id": "PAA8abKz9hoJ"
      },
      "outputs": [
        {
          "data": {
            "text/plain": [
              "0.97264631043257"
            ]
          },
          "execution_count": 93,
          "metadata": {},
          "output_type": "execute_result"
        }
      ],
      "source": [
        "model_score_r1\n"
      ]
    },
    {
      "cell_type": "code",
      "execution_count": null,
      "metadata": {
        "id": "ZoffUPKX9hoJ"
      },
      "outputs": [],
      "source": []
    }
  ],
  "metadata": {
    "colab": {
      "name": "thyroid _detection.ipynb",
      "provenance": []
    },
    "deepnote": {
      "is_reactive": false
    },
    "deepnote_execution_queue": [],
    "deepnote_notebook_id": "9439531c-bd51-4e17-930d-0fc9aa023396",
    "interpreter": {
      "hash": "c5fa49b1b7d5e2906e4eefcbb0032ff02a017e68033cb644d1ced42184e0729f"
    },
    "kernelspec": {
      "display_name": "Python 3.8.0 64-bit (conda)",
      "name": "python3"
    },
    "language_info": {
      "codemirror_mode": {
        "name": "ipython",
        "version": 3
      },
      "file_extension": ".py",
      "mimetype": "text/x-python",
      "name": "python",
      "nbconvert_exporter": "python",
      "pygments_lexer": "ipython3",
      "version": "3.9.1"
    }
  },
  "nbformat": 4,
  "nbformat_minor": 0
}
